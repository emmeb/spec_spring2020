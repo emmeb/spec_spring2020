{
 "cells": [
  {
   "cell_type": "code",
   "execution_count": 1,
   "metadata": {},
   "outputs": [],
   "source": [
    "import requests\n",
    "import json\n",
    "from tqdm import tqdm\n",
    "from convokit import Corpus, User, Utterance, download"
   ]
  },
  {
   "cell_type": "code",
   "execution_count": 2,
   "metadata": {},
   "outputs": [
    {
     "name": "stdout",
     "output_type": "stream",
     "text": [
      "Dataset already exists at /Users/Emilie/.convokit/downloads/subreddit-depressed\n"
     ]
    }
   ],
   "source": [
    "mh_corpus = Corpus(filename=download(\"subreddit-depressed\"))\n",
    "mh_corpus.load_info('utterance',['parsed'])"
   ]
  },
  {
   "cell_type": "code",
   "execution_count": 3,
   "metadata": {},
   "outputs": [],
   "source": [
    "#a = Corpus(filename=download(\"subreddit-Anxiety\"))"
   ]
  },
  {
   "cell_type": "code",
   "execution_count": 4,
   "metadata": {},
   "outputs": [
    {
     "name": "stdout",
     "output_type": "stream",
     "text": [
      "Dataset already exists at /Users/Emilie/.convokit/downloads/subreddit-depressed\n"
     ]
    }
   ],
   "source": [
    "e = Corpus(filename=download('subreddit-depressed'))"
   ]
  },
  {
   "cell_type": "code",
   "execution_count": 5,
   "metadata": {},
   "outputs": [],
   "source": [
    "all_data = mh_corpus.merge(e)"
   ]
  },
  {
   "cell_type": "code",
   "execution_count": 6,
   "metadata": {},
   "outputs": [],
   "source": [
    "#https://gist.github.com/xandaschofield/3c4070b2f232b185ce6a09e47b4e7473 \n",
    "\n",
    "import matplotlib\n",
    "matplotlib.use('Agg')\n",
    "from matplotlib import pyplot as plt\n",
    "import numpy as np\n",
    "import seaborn as sns\n",
    "from sklearn.feature_extraction.text import CountVectorizer as CV\n",
    "import string\n",
    "\n",
    "exclude = set(string.punctuation)\n",
    "\n",
    "\n",
    "def basic_sanitize(in_string):\n",
    "    '''Returns a very roughly sanitized version of the input string.'''\n",
    "    return_string = ''.join([ch for ch in in_string if ord(ch) < 128 and ch not in exclude]).lower()\n",
    "    return_string = ' '.join(return_string.split())\n",
    "    return return_string\n",
    "\n",
    "def bayes_compare_language(l1, l2, ngram=1, prior=.01, cv=None, sig_val=2.573):\n",
    "    '''\n",
    "    Arguments:\n",
    "    - l1, l2; a list of strings from each language sample\n",
    "    - ngram; an int describing up to what n gram you want to consider (1 is unigrams,\n",
    "    2 is bigrams + unigrams, etc). Ignored if a custom CountVectorizer is passed.\n",
    "    - prior; either a float describing a uniform prior, or a vector describing a prior\n",
    "    over vocabulary items. If you're using a predefined vocabulary, make sure to specify that\n",
    "    when you make your CountVectorizer object.\n",
    "    - cv; a sklearn.feature_extraction.text.CountVectorizer object, if desired.\n",
    "    Returns:\n",
    "    - A list of length |Vocab| where each entry is a (n-gram, zscore) tuple.'''\n",
    "    if cv is None and type(prior) is not float:\n",
    "        print(\"If using a non-uniform prior:\")\n",
    "        print(\"Please also pass a count vectorizer with the vocabulary parameter set.\")\n",
    "        quit()\n",
    "    l1 = [basic_sanitize(l) for l in l1]\n",
    "    l2 = [basic_sanitize(l) for l in l2]\n",
    "    if cv is None:\n",
    "        cv = CV(decode_error = 'ignore', min_df = 10, max_df = .5, ngram_range=(1,ngram),\n",
    "                binary = False,\n",
    "                max_features = 15000)\n",
    "    counts_mat = cv.fit_transform(l1+l2).toarray()\n",
    "    # Now sum over languages...\n",
    "    vocab_size = len(cv.vocabulary_)\n",
    "    print(\"Vocab size is {}\".format(vocab_size))\n",
    "    if type(prior) is float:\n",
    "        priors = np.array([prior for i in range(vocab_size)])\n",
    "    else:\n",
    "        priors = prior\n",
    "    z_scores = np.empty(priors.shape[0])\n",
    "    count_matrix = np.empty([2, vocab_size], dtype=np.float32)\n",
    "    count_matrix[0, :] = np.sum(counts_mat[:len(l1), :], axis = 0)\n",
    "    count_matrix[1, :] = np.sum(counts_mat[len(l1):, :], axis = 0)\n",
    "    a0 = np.sum(priors)\n",
    "    n1 = 1.*np.sum(count_matrix[0,:])\n",
    "    n2 = 1.*np.sum(count_matrix[1,:])\n",
    "    print(\"Comparing language...\")\n",
    "    for i in range(vocab_size):\n",
    "        #compute delta\n",
    "        term1 = np.log((count_matrix[0,i] + priors[i])/(n1 + a0 - count_matrix[0,i] - priors[i]))\n",
    "        term2 = np.log((count_matrix[1,i] + priors[i])/(n2 + a0 - count_matrix[1,i] - priors[i]))        \n",
    "        delta = term1 - term2\n",
    "        #compute variance on delta\n",
    "        var = 1./(count_matrix[0,i] + priors[i]) + 1./(count_matrix[1,i] + priors[i])\n",
    "        #store final score\n",
    "        z_scores[i] = delta/np.sqrt(var)\n",
    "    index_to_term = {v: k for k, v in cv.vocabulary_.items()}\n",
    "    sorted_indices = np.argsort(z_scores)\n",
    "    return_list = [(index_to_term[i], z_scores[i]) for i in sorted_indices]\n",
    "    \n",
    "    x_vals = count_matrix.sum(axis=0)\n",
    "    y_vals = z_scores\n",
    "    sizes = abs(z_scores) * 2\n",
    "    neg_color, pos_color, insig_color = ('orange', 'purple', 'grey')\n",
    "    colors = []\n",
    "    annots = []\n",
    "    for i, y in enumerate(y_vals):\n",
    "        if y > sig_val:\n",
    "            colors.append(pos_color)\n",
    "            annots.append(index_to_term[i])\n",
    "        elif y < -sig_val:\n",
    "            colors.append(neg_color)\n",
    "            annots.append(index_to_term[i])\n",
    "        else:\n",
    "            colors.append(insig_color)\n",
    "            annots.append(None)\n",
    "\n",
    "    fig, ax = plt.subplots()\n",
    "    ax.scatter(x_vals, y_vals, c=colors, s=sizes, linewidth=0)\n",
    "    for i, annot in enumerate(annots):\n",
    "        if annot is not None:\n",
    "            ax.annotate(annot, (x_vals[i], y_vals[i]), color=colors[i], size=sizes[i])\n",
    "    ax.set_xscale('log')\n",
    "    \n",
    "    plt.savefig('test.pdf')"
   ]
  },
  {
   "cell_type": "code",
   "execution_count": 7,
   "metadata": {},
   "outputs": [],
   "source": [
    "from nltk.corpus import stopwords\n",
    "stopwords  = stopwords.words('english')\n",
    "\n",
    "def removeStopwords(wordlist, stopwords):\n",
    "    return [w for w in wordlist if w not in stopwords]\n",
    "\n",
    "def wordListToFreqDict(wordlist):\n",
    "    wordfreq = [wordlist.count(p) for p in wordlist]\n",
    "    return dict(list(zip(wordlist,wordfreq)))"
   ]
  },
  {
   "cell_type": "code",
   "execution_count": 8,
   "metadata": {},
   "outputs": [],
   "source": [
    "mh_convos = [] \n",
    "for i in (list(mh_corpus.iter_conversations())):\n",
    "    mh_convos.append((i.meta['title']))\n",
    "\n",
    "mh_wordlist = [i.split() for i in mh_convos]\n",
    "mh_clean_wordlist = removeStopwords(mh_wordlist, stopwords)"
   ]
  },
  {
   "cell_type": "code",
   "execution_count": 9,
   "metadata": {},
   "outputs": [],
   "source": [
    "e_convos = [] \n",
    "for i in (list(e.iter_conversations())):\n",
    "    e_convos.append((i.meta['title']))\n",
    "\n",
    "e_wordlist = [i.split() for i in e_convos]\n",
    "e_clean_wordlist = removeStopwords(e_wordlist, stopwords)"
   ]
  },
  {
   "cell_type": "code",
   "execution_count": 10,
   "metadata": {},
   "outputs": [
    {
     "data": {
      "text/plain": [
       "[\"Wasn't sure where else to post this... feeling terrible\",\n",
       " 'In my head',\n",
       " 'Boyfriend just broke up with me today;I thought he was the one.',\n",
       " 'I have 6 months to live',\n",
       " 'Really Depressed',\n",
       " 'Progression of depression...',\n",
       " 'A story of Depression',\n",
       " 'Nobody to talk to.',\n",
       " \"I'm doing it tomorrow...\",\n",
       " 'I need help',\n",
       " 'Tired of life',\n",
       " 'I hate myself',\n",
       " \"I've done everything and it wasn't enough\",\n",
       " '\"You should be happy\"',\n",
       " \"i Don't even think I can withstand life itself anymore\",\n",
       " \"Apparently I can't even bring up the most basic social skills.\",\n",
       " 'Not quite sure how to put it all',\n",
       " 'What goes on in my head',\n",
       " 'What happened?',\n",
       " 'Follow up: \"I\\'m doing it tomorrow...\"',\n",
       " \"Realizing I'm have depression.\",\n",
       " 'What do I do?',\n",
       " 'Its not the same anymore.',\n",
       " 'Writing this helped me cry then I felt better so here we go',\n",
       " \"I don't want to be like this anymore\",\n",
       " 'Best friend left me.',\n",
       " 'Human',\n",
       " 'Just tears at my heart...',\n",
       " 'So depressed',\n",
       " 'Is this it? Is this what I have to look foward to?',\n",
       " 'tired of being a piece of shit.',\n",
       " 'Im sorry. Im breaking down right now. ',\n",
       " 'Oh ya',\n",
       " 'Is there a way out?',\n",
       " 'Just need someone to talk to',\n",
       " 'Personal and professional inadequacies',\n",
       " 'Dear Zachary: A Letter to a Son About His Father - This is a full documentary. See comments for why I posted this.',\n",
       " 'Need somebody to talk to',\n",
       " 'A theory.',\n",
       " 'Crushing',\n",
       " \"I don't know what to do anymore. Everything seems bleak.\",\n",
       " 'Important update',\n",
       " 'Could I have someone to talk to please?',\n",
       " 'Why not me?',\n",
       " 'I will bomb my high school soon.',\n",
       " \"I feel like I'm on the verge of suicide.\",\n",
       " \"Everything i do makes my life worse and I'm reminded of my mistakes everyday. I try to be happy for everyone but then they hate me for being annoying. Everything is just so tiring... I don't have anyone to talk to and if I did I don't know how to talk about me. Is there any hope\",\n",
       " 'Failed out of College',\n",
       " 'Anyone taking celexa?',\n",
       " 'depression for me',\n",
       " 'In a 3 month slump',\n",
       " 'Am I depressed or am I just being overly dramatic?',\n",
       " 'Does Your Child Have Depression?',\n",
       " 'Life is just a slow and painful death...',\n",
       " 'I cry',\n",
       " 'Full of Regrets needed to vent.',\n",
       " 'This is how I feel most of the days, Can anyone help me?',\n",
       " 'I need help',\n",
       " 'Does anyone else sit/lay in their bathroom like I do?',\n",
       " 'I just wanted to let out my thoughts',\n",
       " \"I don't know what to do anymore\",\n",
       " 'Anyone else just feel depressed in the evening?',\n",
       " 'Prom',\n",
       " 'Severely depressed loved one! Need help',\n",
       " 'To depressed to go on...',\n",
       " 'Just some thoughts....',\n",
       " 'I am Sorry but i really need help.',\n",
       " \"I think I'm worse than ever.\",\n",
       " 'I want to be alone',\n",
       " 'Have you ever been in counseling or psychotherapy? How did it go?',\n",
       " 'What keeps you guys going?',\n",
       " 'Anyone else the same?',\n",
       " \"I hate my life and I'm new to Reddit. Can someone help me out so I can't vent a bunch of crap no one cares about?\",\n",
       " \"Can't help myself\",\n",
       " 'Musing on Life, Choices, Dreams and Failures',\n",
       " 'Please make me cry.',\n",
       " 'I feel so happy finding these subreddits',\n",
       " 'I make friendships only to tear them apart a little less than a year.',\n",
       " 'Depression',\n",
       " 'Depression',\n",
       " 'Just found out my abusive ex also cheated on me',\n",
       " \"Can people see that you're depressed looking at your face?\",\n",
       " 'I feel so sad',\n",
       " 'I was doing so good',\n",
       " \"Felt like I was there, but now I'm feeling like what I want is impossible and I not worth it.\",\n",
       " 'Waste of time',\n",
       " 'Is there a generic for Paxil?',\n",
       " 'Look at strangers and contemplate their inner selves.',\n",
       " 'I know how you feel',\n",
       " 'night time thoughts',\n",
       " 'Feeling Empty',\n",
       " 'I dont even know anymore..',\n",
       " 'Feeling Bad',\n",
       " 'Starting to give up...',\n",
       " \"Early 20's/Depressed/Need conversationalist\",\n",
       " 'Missing out on important things on life, everything is black and white.',\n",
       " \"Depressed? Don't Give Up.\",\n",
       " 'i need help please..',\n",
       " 'Oxymoron',\n",
       " \"I've lost hope in everyone\",\n",
       " 'Starting to give up and not trying anymore',\n",
       " 'Truly lower than dirt.',\n",
       " 'How I feel (most of the time)',\n",
       " 'Does anyone ever want to just say fuck it and start happily and openly embracing your own crippling depression as though its something you like? because lets be honest...fighting it hardly ever works.',\n",
       " \"I'm being so harsh to myself\",\n",
       " 'What is the point to all this? Friends are fake, relationships end, and my parents tell me I am an embarrassment.',\n",
       " 'the skin I live in is pretty',\n",
       " 'High-dose MAOIs for severe refractory depression?',\n",
       " 'Hardest year of my life.',\n",
       " 'How can i hold out for just some more months ?',\n",
       " '20/M Trust issues lead to my depression',\n",
       " 'Perhaps of interest: \"Critical Appraisal of Selegiline Transdermal System for Major Depressive Disorder\"',\n",
       " 'Just wrote this to a friend figured it could help someone out there *Unedited*',\n",
       " \"I don't know what to do\",\n",
       " 'Running Away',\n",
       " 'Lonely',\n",
       " \"I'm stuck\",\n",
       " 'no job, upset and alone',\n",
       " 'To all who are sad, depressed, stuck, alone, frustrated and at the end of the line, I just want to say one thing',\n",
       " 'Everything, pretty much.',\n",
       " 'I have a confession to make',\n",
       " \"I feel so lost today... i'm so emotionless. I wanna leave.\",\n",
       " 'Goodbye reddit... Im taking the next step.',\n",
       " \"I'm 19 years-old and I'm done.\",\n",
       " 'No thinking',\n",
       " 'Man with no arms and legs-Amazing Story',\n",
       " 'Pills',\n",
       " 'Am I depressed?',\n",
       " 'I think I can do this',\n",
       " 'Job Problems and Depression',\n",
       " 'I see nothing positive in my life right now',\n",
       " 'Nervous as shit.',\n",
       " 'I hate how my depression is worse late at night.',\n",
       " 'Just a GREAT day (as if I ever have those)',\n",
       " '1st world problems',\n",
       " 'Friends and Postgrad... Quite Depressed',\n",
       " \"I can't deal with this anymore\",\n",
       " 'Help me come out of depression.',\n",
       " 'I hate everything',\n",
       " 'Sliding down',\n",
       " 'Friends',\n",
       " 'I feel like I am broken',\n",
       " \"Fucked up my boyfriend's Fallout game.\",\n",
       " 'Your Life as a Book Intro',\n",
       " 'Fully convinced I am worthless and purposeless',\n",
       " 'Mood',\n",
       " 'losing my desire to live',\n",
       " 'Subconsciously thinking about suicide',\n",
       " 'Internship making me depressed?',\n",
       " 'I never thought life would end up being constantly stressed about financial status, sex appeal, and the future.',\n",
       " 'Should I see a therapist',\n",
       " 'Life sucks',\n",
       " 'depression is a bitch',\n",
       " 'School Sucks',\n",
       " \"I'm done\",\n",
       " 'Hopelessly broken romantic',\n",
       " 'I meant nothing to someone I considered my best friend',\n",
       " 'Lonely',\n",
       " 'Failed',\n",
       " ':(',\n",
       " 'Remember how redis sucked ass and no ody gives a fucking shit?!',\n",
       " 'I just want to die.',\n",
       " 'Found somebody to talk to',\n",
       " \"Feel like a husk. Can't find any purpose or passion to anything I do\",\n",
       " 'I hate myself.',\n",
       " 'What do you do when everyone you love leaves your life.',\n",
       " 'Just wanted to thank everyone here, reading all these posts has really helped',\n",
       " 'Clinical depression',\n",
       " 'Childhood trauma. Need to talk about it.',\n",
       " 'Hate',\n",
       " 'A few things',\n",
       " 'I want you dead',\n",
       " 'Today',\n",
       " 'Do I write for myself to be better? Or for others to feel sympathetic?',\n",
       " \"Campaign against men's depression!\",\n",
       " 'When',\n",
       " 'Getting married, pretending to be excited',\n",
       " 'My Life.',\n",
       " 'How I can get myself out of depression',\n",
       " 'Depressed because of school',\n",
       " 'Wtf my mom is making a reddit account',\n",
       " 'Just another story',\n",
       " \"Want to die but don't want to kill myself\",\n",
       " 'Feeling really bad',\n",
       " 'Not afraid of death but afraid of dying.',\n",
       " 'Had another argument with my mom.. nothing new',\n",
       " 'Want to end my life',\n",
       " \"I feel like I don't belong anymore.\",\n",
       " 'I Made it to 16!',\n",
       " \"I can't do it\",\n",
       " 'When enough is enough',\n",
       " \"i'm scared of failing..\",\n",
       " 'Happy',\n",
       " 'This might sound crazy and please deleted if needed, but is there a group of poeple that sometimes want to die bases off their depression but not by actually taking their lives?',\n",
       " 'What do you do?',\n",
       " 'Memory and Regret',\n",
       " '19 year old loser',\n",
       " \"I feel like I met the perfect person and she's gone\",\n",
       " \"What's wrong with me?\",\n",
       " 'Stuck']"
      ]
     },
     "execution_count": 10,
     "metadata": {},
     "output_type": "execute_result"
    }
   ],
   "source": [
    "e_convos"
   ]
  },
  {
   "cell_type": "code",
   "execution_count": 11,
   "metadata": {},
   "outputs": [
    {
     "name": "stdout",
     "output_type": "stream",
     "text": [
      "Vocab size is 53\n",
      "Comparing language...\n"
     ]
    }
   ],
   "source": [
    "bayes_compare_language(mh_convos, e_convos)"
   ]
  },
  {
   "cell_type": "markdown",
   "metadata": {},
   "source": [
    "Topic Modeling "
   ]
  },
  {
   "cell_type": "code",
   "execution_count": 12,
   "metadata": {},
   "outputs": [
    {
     "name": "stderr",
     "output_type": "stream",
     "text": [
      "[nltk_data] Downloading package wordnet to /Users/Emilie/nltk_data...\n",
      "[nltk_data]   Package wordnet is already up-to-date!\n",
      "[nltk_data] Downloading package stopwords to\n",
      "[nltk_data]     /Users/Emilie/nltk_data...\n",
      "[nltk_data]   Package stopwords is already up-to-date!\n"
     ]
    }
   ],
   "source": [
    "#https://github.com/susanli2016/Machine-Learning-with-Python/blob/master/topic_modeling_Gensim.ipynb \n",
    "# https://towardsdatascience.com/topic-modelling-in-python-with-nltk-and-gensim-4ef03213cd21\n",
    "\n",
    "import spacy\n",
    "spacy.load('en')\n",
    "from spacy.lang.en import English\n",
    "parser = English()\n",
    "\n",
    "def tokenize(text):\n",
    "    lda_tokens = []\n",
    "    tokens = parser(text)\n",
    "    for token in tokens:\n",
    "        if token.orth_.isspace():\n",
    "            continue\n",
    "        elif token.like_url:\n",
    "            lda_tokens.append('URL')\n",
    "        elif token.orth_.startswith('@'):\n",
    "            lda_tokens.append('SCREEN_NAME')\n",
    "        else:\n",
    "            lda_tokens.append(token.lower_)\n",
    "    return lda_tokens\n",
    "\n",
    "import nltk\n",
    "nltk.download('wordnet')\n",
    "\n",
    "from nltk.corpus import wordnet as wn\n",
    "def get_lemma(word):\n",
    "    lemma = wn.morphy(word)\n",
    "    if lemma is None:\n",
    "        return word\n",
    "    else:\n",
    "        return lemma\n",
    "    \n",
    "from nltk.stem.wordnet import WordNetLemmatizer\n",
    "def get_lemma2(word):\n",
    "    return WordNetLemmatizer().lemmatize(word)\n",
    "\n",
    "nltk.download('stopwords')\n",
    "en_stop = set(nltk.corpus.stopwords.words('english'))\n",
    "\n",
    "def prepare_text_for_lda(text):\n",
    "    tokens = tokenize(text)\n",
    "    tokens = [token for token in tokens if len(token) > 4]\n",
    "    tokens = [token for token in tokens if token not in en_stop]\n",
    "    tokens = [get_lemma(token) for token in tokens]\n",
    "    return tokens\n"
   ]
  },
  {
   "cell_type": "code",
   "execution_count": 13,
   "metadata": {},
   "outputs": [],
   "source": [
    "text_data = []\n",
    "for line in e_convos: \n",
    "    tokens = prepare_text_for_lda(line) \n",
    "    text_data.append(tokens)"
   ]
  },
  {
   "cell_type": "code",
   "execution_count": 14,
   "metadata": {},
   "outputs": [],
   "source": [
    "from gensim import corpora\n",
    "dictionary = corpora.Dictionary(text_data)\n",
    "corpus = [dictionary.doc2bow(text) for text in text_data]\n",
    "import pickle\n",
    "pickle.dump(corpus, open('corpus.pkl', 'wb'))\n",
    "dictionary.save('dictionary.gensim')\n"
   ]
  },
  {
   "cell_type": "markdown",
   "metadata": {},
   "source": [
    "## Try 5 topics"
   ]
  },
  {
   "cell_type": "code",
   "execution_count": 15,
   "metadata": {},
   "outputs": [],
   "source": [
    "import gensim\n",
    "NUM_TOPICS = 5\n",
    "ldamodel = gensim.models.ldamodel.LdaModel(corpus, num_topics = NUM_TOPICS, id2word=dictionary, passes=15)\n",
    "ldamodel.save('model5.gensim')"
   ]
  },
  {
   "cell_type": "code",
   "execution_count": 16,
   "metadata": {},
   "outputs": [
    {
     "name": "stdout",
     "output_type": "stream",
     "text": [
      "(0, '0.026*\"please\" + 0.026*\"depression\" + 0.018*\"enough\" + 0.018*\"month\"')\n",
      "(1, '0.029*\"everyone\" + 0.029*\"really\" + 0.022*\"happy\" + 0.015*\"everything\"')\n",
      "(2, '0.051*\"feeling\" + 0.022*\"nothing\" + 0.022*\"break\" + 0.022*\"stick\"')\n",
      "(3, '0.090*\"depression\" + 0.063*\"anymore\" + 0.029*\"depress\" + 0.022*\"school\"')\n",
      "(4, '0.064*\"depress\" + 0.042*\"friend\" + 0.035*\"anyone\" + 0.035*\"someone\"')\n"
     ]
    }
   ],
   "source": [
    "topics = ldamodel.print_topics(num_words=4)\n",
    "for topic in topics:\n",
    "    print(topic)"
   ]
  },
  {
   "cell_type": "code",
   "execution_count": 17,
   "metadata": {},
   "outputs": [
    {
     "name": "stdout",
     "output_type": "stream",
     "text": [
      "[]\n",
      "[(0, 0.2), (1, 0.2), (2, 0.2), (3, 0.2), (4, 0.2)]\n",
      "(0, '0.041*\"depress\" + 0.036*\"anymore\" + 0.022*\"everything\" + 0.021*\"friend\"')\n",
      "(1, '0.024*\"anyone\" + 0.019*\"depress\" + 0.015*\"thought\" + 0.015*\"alone\"')\n",
      "(2, '0.090*\"depression\" + 0.019*\"feeling\" + 0.018*\"story\" + 0.018*\"month\"')\n"
     ]
    }
   ],
   "source": [
    "new_doc = 'Practical Bayesian Optimization of Machine Learning Algorithms'\n",
    "new_doc = prepare_text_for_lda(new_doc)\n",
    "new_doc_bow = dictionary.doc2bow(new_doc)\n",
    "print(new_doc_bow)\n",
    "print(ldamodel.get_document_topics(new_doc_bow))\n",
    "ldamodel = gensim.models.ldamodel.LdaModel(corpus, num_topics = 3, id2word=dictionary, passes=15)\n",
    "ldamodel.save('model3.gensim')\n",
    "topics = ldamodel.print_topics(num_words=4)\n",
    "for topic in topics:\n",
    "    print(topic)"
   ]
  },
  {
   "cell_type": "code",
   "execution_count": 18,
   "metadata": {},
   "outputs": [
    {
     "name": "stdout",
     "output_type": "stream",
     "text": [
      "(0, '0.042*\"fail\" + 0.042*\"tomorrow\" + 0.022*\"convince\" + 0.022*\"getting\"')\n",
      "(1, '0.240*\"depression\" + 0.032*\"depress\" + 0.017*\"night\" + 0.017*\"found\"')\n",
      "(2, '0.059*\"feeling\" + 0.059*\"really\" + 0.040*\"afraid\" + 0.040*\"thinking\"')\n",
      "(3, '0.094*\"depress\" + 0.022*\"nothing\" + 0.022*\"right\" + 0.022*\"today\"')\n",
      "(4, '0.032*\"write\" + 0.032*\"alone\" + 0.032*\"stick\" + 0.017*\"anyone\"')\n",
      "(5, '0.053*\"suck\" + 0.053*\"think\" + 0.053*\"school\" + 0.036*\"lonely\"')\n",
      "(6, '0.045*\"someone\" + 0.045*\"thought\" + 0.031*\"depress\" + 0.031*\"reddit\"')\n",
      "(7, '0.054*\"everything\" + 0.041*\"break\" + 0.041*\"everyone\" + 0.027*\"month\"')\n",
      "(8, '0.050*\"anyone\" + 0.050*\"happy\" + 0.034*\"enough\" + 0.018*\"friend\"')\n",
      "(9, '0.132*\"anymore\" + 0.031*\"another\" + 0.031*\"quite\" + 0.030*\"somebody\"')\n"
     ]
    }
   ],
   "source": [
    "ldamodel = gensim.models.ldamodel.LdaModel(corpus, num_topics = 10, id2word=dictionary, passes=15)\n",
    "ldamodel.save('model10.gensim')\n",
    "topics = ldamodel.print_topics(num_words=4)\n",
    "for topic in topics:\n",
    "    print(topic)"
   ]
  },
  {
   "cell_type": "code",
   "execution_count": 19,
   "metadata": {},
   "outputs": [],
   "source": [
    "dictionary = gensim.corpora.Dictionary.load('dictionary.gensim')\n",
    "corpus = pickle.load(open('corpus.pkl', 'rb'))\n",
    "lda = gensim.models.ldamodel.LdaModel.load('model5.gensim')"
   ]
  },
  {
   "cell_type": "code",
   "execution_count": 20,
   "metadata": {},
   "outputs": [
    {
     "name": "stderr",
     "output_type": "stream",
     "text": [
      "/anaconda3/lib/python3.7/site-packages/pyLDAvis/_prepare.py:257: FutureWarning: Sorting because non-concatenation axis is not aligned. A future version\n",
      "of pandas will change to not sort by default.\n",
      "\n",
      "To accept the future behavior, pass 'sort=False'.\n",
      "\n",
      "To retain the current behavior and silence the warning, pass 'sort=True'.\n",
      "\n",
      "  return pd.concat([default_term_info] + list(topic_dfs))\n"
     ]
    },
    {
     "data": {
      "text/html": [
       "\n",
       "<link rel=\"stylesheet\" type=\"text/css\" href=\"https://cdn.rawgit.com/bmabey/pyLDAvis/files/ldavis.v1.0.0.css\">\n",
       "\n",
       "\n",
       "<div id=\"ldavis_el3790112271620400295321764\"></div>\n",
       "<script type=\"text/javascript\">\n",
       "\n",
       "var ldavis_el3790112271620400295321764_data = {\"mdsDat\": {\"x\": [-0.07052196721002854, 0.08630889222588517, -0.03101705917518677, -0.1054920916427051, 0.12072222580203523], \"y\": [-0.013724734919187085, -0.08569605481578264, -0.07565788884888203, 0.07538928978463755, 0.09968938879921423], \"topics\": [1, 2, 3, 4, 5], \"cluster\": [1, 1, 1, 1, 1], \"Freq\": [18.708938598632812, 23.75703239440918, 13.533219337463379, 21.895462036132812, 22.105342864990234]}, \"tinfo\": {\"Category\": [\"Default\", \"Default\", \"Default\", \"Default\", \"Default\", \"Default\", \"Default\", \"Default\", \"Default\", \"Default\", \"Default\", \"Default\", \"Default\", \"Default\", \"Default\", \"Default\", \"Default\", \"Default\", \"Default\", \"Default\", \"Default\", \"Default\", \"Default\", \"Default\", \"Default\", \"Default\", \"Default\", \"Default\", \"Default\", \"Default\", \"Topic1\", \"Topic1\", \"Topic1\", \"Topic1\", \"Topic1\", \"Topic1\", \"Topic1\", \"Topic1\", \"Topic1\", \"Topic1\", \"Topic1\", \"Topic1\", \"Topic1\", \"Topic1\", \"Topic1\", \"Topic1\", \"Topic1\", \"Topic1\", \"Topic1\", \"Topic1\", \"Topic1\", \"Topic1\", \"Topic1\", \"Topic1\", \"Topic1\", \"Topic1\", \"Topic1\", \"Topic1\", \"Topic1\", \"Topic1\", \"Topic1\", \"Topic1\", \"Topic1\", \"Topic1\", \"Topic1\", \"Topic1\", \"Topic1\", \"Topic1\", \"Topic2\", \"Topic2\", \"Topic2\", \"Topic2\", \"Topic2\", \"Topic2\", \"Topic2\", \"Topic2\", \"Topic2\", \"Topic2\", \"Topic2\", \"Topic2\", \"Topic2\", \"Topic2\", \"Topic2\", \"Topic2\", \"Topic2\", \"Topic2\", \"Topic2\", \"Topic2\", \"Topic2\", \"Topic2\", \"Topic2\", \"Topic2\", \"Topic2\", \"Topic2\", \"Topic2\", \"Topic2\", \"Topic2\", \"Topic2\", \"Topic2\", \"Topic2\", \"Topic2\", \"Topic2\", \"Topic2\", \"Topic2\", \"Topic2\", \"Topic2\", \"Topic2\", \"Topic2\", \"Topic3\", \"Topic3\", \"Topic3\", \"Topic3\", \"Topic3\", \"Topic3\", \"Topic3\", \"Topic3\", \"Topic3\", \"Topic3\", \"Topic3\", \"Topic3\", \"Topic3\", \"Topic3\", \"Topic3\", \"Topic3\", \"Topic3\", \"Topic3\", \"Topic3\", \"Topic3\", \"Topic3\", \"Topic3\", \"Topic3\", \"Topic3\", \"Topic3\", \"Topic3\", \"Topic3\", \"Topic3\", \"Topic3\", \"Topic3\", \"Topic3\", \"Topic3\", \"Topic3\", \"Topic3\", \"Topic4\", \"Topic4\", \"Topic4\", \"Topic4\", \"Topic4\", \"Topic4\", \"Topic4\", \"Topic4\", \"Topic4\", \"Topic4\", \"Topic4\", \"Topic4\", \"Topic4\", \"Topic4\", \"Topic4\", \"Topic4\", \"Topic4\", \"Topic4\", \"Topic4\", \"Topic4\", \"Topic4\", \"Topic4\", \"Topic4\", \"Topic4\", \"Topic4\", \"Topic4\", \"Topic4\", \"Topic4\", \"Topic4\", \"Topic4\", \"Topic4\", \"Topic4\", \"Topic4\", \"Topic4\", \"Topic4\", \"Topic4\", \"Topic4\", \"Topic5\", \"Topic5\", \"Topic5\", \"Topic5\", \"Topic5\", \"Topic5\", \"Topic5\", \"Topic5\", \"Topic5\", \"Topic5\", \"Topic5\", \"Topic5\", \"Topic5\", \"Topic5\", \"Topic5\", \"Topic5\", \"Topic5\", \"Topic5\", \"Topic5\", \"Topic5\", \"Topic5\", \"Topic5\", \"Topic5\", \"Topic5\", \"Topic5\", \"Topic5\", \"Topic5\", \"Topic5\", \"Topic5\", \"Topic5\", \"Topic5\", \"Topic5\", \"Topic5\", \"Topic5\", \"Topic5\", \"Topic5\"], \"Freq\": [5.0, 11.0, 9.0, 3.0, 4.0, 3.0, 4.0, 3.0, 3.0, 3.0, 1.0, 1.0, 2.0, 2.0, 2.0, 2.0, 2.0, 3.0, 4.0, 3.0, 1.0, 1.0, 1.0, 2.0, 2.0, 2.0, 2.0, 1.0, 1.0, 2.0, 1.3402262926101685, 1.3402202129364014, 1.3402142524719238, 1.9538588523864746, 0.7310354113578796, 0.7310353517532349, 0.7310352921485901, 0.7310352325439453, 0.7310352921485901, 0.7310349345207214, 0.7310351133346558, 0.7310349345207214, 0.7310344576835632, 0.7310343980789185, 0.7310323715209961, 0.7310324311256409, 0.7310318350791931, 0.7310316562652588, 0.7310316562652588, 0.7310316562652588, 0.7310315370559692, 0.7310315370559692, 0.7310314178466797, 0.7310310006141663, 0.7310143113136292, 0.7310141324996948, 0.7310127019882202, 0.7310126423835754, 0.7310125231742859, 0.7310122847557068, 1.345418930053711, 1.3421179056167603, 1.3414435386657715, 1.9471279382705688, 0.7326977849006653, 0.731810986995697, 0.7316641807556152, 0.7315559983253479, 2.744554042816162, 2.738391637802124, 1.4376437664031982, 1.4375964403152466, 2.0939929485321045, 0.7841639518737793, 0.7841639518737793, 0.784163773059845, 0.7841634154319763, 0.7841634154319763, 0.7841634154319763, 0.7841634154319763, 0.784163236618042, 0.784163236618042, 0.7841631174087524, 0.7841627597808838, 0.7841629385948181, 0.7841625809669495, 0.7841624021530151, 0.7841625213623047, 0.7841623425483704, 0.7841594815254211, 0.7841594815254211, 0.7841591835021973, 0.7841588854789734, 0.7841587066650391, 0.7841585278511047, 0.7841582894325256, 0.7841582894325256, 0.7841536402702332, 1.1677308082580566, 1.441484808921814, 1.4427870512008667, 1.4412732124328613, 0.8701454997062683, 0.7891826033592224, 0.7865701913833618, 0.7859182357788086, 0.7846309542655945, 0.7844586372375488, 2.752662181854248, 1.1689128875732422, 1.168898344039917, 0.6381359100341797, 0.6381351947784424, 0.6381345391273499, 0.6381344199180603, 0.6381315588951111, 0.6381312608718872, 0.6381311416625977, 0.6381247043609619, 0.6381242275238037, 0.6381229758262634, 0.6381229162216187, 0.6381226778030396, 0.6381216049194336, 0.638107180595398, 0.6381061673164368, 0.6381049156188965, 0.6381046175956726, 0.6381041407585144, 0.638055682182312, 0.6380489468574524, 0.638047993183136, 0.6380462646484375, 0.6380448937416077, 0.6352084875106812, 1.1731963157653809, 1.1699368953704834, 1.1696240901947021, 1.1701772212982178, 0.6408032178878784, 0.6399767994880676, 0.6389522552490234, 5.481036186218262, 1.908326268196106, 1.3119897842407227, 1.3065251111984253, 7.844785213470459, 0.7156317234039307, 0.7156312465667725, 0.7156307697296143, 0.7156292796134949, 0.7156292796134949, 0.7156290411949158, 0.7156281471252441, 0.7156245708465576, 0.7156240940093994, 0.7156237959861755, 0.7156233191490173, 0.7156234383583069, 0.71562260389328, 0.7156221866607666, 0.7156221866607666, 0.7156218886375427, 0.7156126499176025, 0.7156122922897339, 0.7156118154525757, 0.7156113386154175, 0.7156113386154175, 0.7156111001968384, 0.7156102061271667, 0.7156097292900085, 0.715609610080719, 1.3089783191680908, 1.314157485961914, 2.507770538330078, 0.7183508276939392, 0.718346118927002, 0.7163788080215454, 0.7157987952232361, 3.6826157569885254, 3.070817232131958, 1.322383165359497, 1.3223530054092407, 1.3212734460830688, 1.241974949836731, 3.1224586963653564, 5.688304424285889, 0.7213263511657715, 0.7213258147239685, 0.721325159072876, 0.7213203310966492, 0.7213200926780701, 0.7213201522827148, 0.7213200926780701, 0.721315324306488, 0.721314549446106, 0.7213141322135925, 0.7213143110275269, 0.7213139533996582, 0.7213134169578552, 0.7213121056556702, 0.7213121056556702, 0.7213119864463806, 0.721311092376709, 0.7213100790977478, 0.7213026285171509, 0.7213023900985718, 0.7213023900985718, 0.7213011384010315, 2.5251286029815674, 1.9199951887130737, 1.3216835260391235, 1.3244928121566772, 0.7218212485313416, 0.721632182598114], \"Term\": [\"anymore\", \"depression\", \"depress\", \"feeling\", \"friend\", \"someone\", \"anyone\", \"everyone\", \"really\", \"please\", \"fail\", \"today\", \"break\", \"nothing\", \"stick\", \"alone\", \"school\", \"thought\", \"everything\", \"happy\", \"afraid\", \"need\", \"better\", \"suck\", \"enough\", \"think\", \"month\", \"death\", \"somebody\", \"story\", \"afraid\", \"need\", \"better\", \"please\", \"group\", \"sound\", \"base\", \"crazy\", \"life\", \"sometimes\", \"delete\", \"actually\", \"might\", \"poeple\", \"transdermal\", \"interest\", \"disorder\", \"system\", \"selegiline\", \"major\", \"critical\", \"appraisal\", \"depressive\", \"perhaps\", \"worthless\", \"convince\", \"dying\", \"fully\", \"others\", \"purposeless\", \"enough\", \"month\", \"think\", \"depression\", \"somebody\", \"taking\", \"write\", \"death\", \"everyone\", \"really\", \"post\", \"sorry\", \"happy\", \"fighting\", \"embracing\", \"start\", \"openly\", \"happily\", \"hardly\", \"works\", \"honest\", \"cripple\", \"though\", \"make\", \"something\", \"remind\", \"annoying\", \"everyday\", \"mistake\", \"appeal\", \"status\", \"never\", \"future\", \"would\", \"constantly\", \"financial\", \"stress\", \"thank\", \"problem\", \"thought\", \"everything\", \"anyone\", \"depression\", \"tire\", \"worse\", \"want\", \"help\", \"boyfriend\", \"feeling\", \"today\", \"fail\", \"fucking\", \"remember\", \"redis\", \"give\", \"emotionless\", \"leave\", \"wanna\", \"argument\", \"romantic\", \"hopelessly\", \"impossible\", \"worth\", \"positive\", \"update\", \"empty\", \"upset\", \"college\", \"painful\", \"theory\", \"years\", \"crushing\", \"great\", \"therapist\", \"bitch\", \"nothing\", \"stick\", \"alone\", \"break\", \"suck\", \"another\", \"right\", \"anymore\", \"school\", \"suicide\", \"lonely\", \"depression\", \"apparently\", \"basic\", \"social\", \"frustrate\", \"bring\", \"thing\", \"skill\", \"stranger\", \"contemplate\", \"severe\", \"refractory\", \"inner\", \"seem\", \"maoi\", \"bleak\", \"self\", \"apart\", \"anything\", \"friendship\", \"abusive\", \"try\", \"little\", \"purpose\", \"passion\", \"conversationalist\", \"suck\", \"story\", \"depress\", \"thinking\", \"starting\", \"night\", \"found\", \"friend\", \"someone\", \"things\", \"tomorrow\", \"quite\", \"could\", \"anyone\", \"depress\", \"miss\", \"white\", \"black\", \"parent\", \"point\", \"embarrassment\", \"relationship\", \"pretending\", \"dream\", \"choice\", \"getting\", \"excite\", \"postgrad\", \"care\", \"musing\", \"bunch\", \"married\", \"failure\", \"celexa\", \"severely\", \"fallout\", \"evening\", \"everything\", \"thought\", \"taking\", \"reddit\", \"important\", \"pretty\"], \"Total\": [5.0, 11.0, 9.0, 3.0, 4.0, 3.0, 4.0, 3.0, 3.0, 3.0, 1.0, 1.0, 2.0, 2.0, 2.0, 2.0, 2.0, 3.0, 4.0, 3.0, 1.0, 1.0, 1.0, 2.0, 2.0, 2.0, 2.0, 1.0, 1.0, 2.0, 1.8168188333511353, 1.8168179988861084, 1.8168179988861084, 3.0271999835968018, 1.2076066732406616, 1.2076066732406616, 1.2076066732406616, 1.2076066732406616, 1.2076067924499512, 1.2076066732406616, 1.2076067924499512, 1.2076067924499512, 1.207606554031372, 1.207606554031372, 1.207606315612793, 1.2076064348220825, 1.207606315612793, 1.207606315612793, 1.207606315612793, 1.207606315612793, 1.207606315612793, 1.2076064348220825, 1.2076064348220825, 1.207606315612793, 1.207604169845581, 1.207604169845581, 1.207604169845581, 1.207604169845581, 1.207604169845581, 1.2076042890548706, 2.4179983139038086, 2.41322922706604, 2.413213014602661, 11.440518379211426, 1.7396142482757568, 2.4098715782165527, 1.8606464862823486, 1.7394657135009766, 3.2123467922210693, 3.211677074432373, 1.905373215675354, 1.9053648710250854, 3.1601998805999756, 1.25188148021698, 1.2518815994262695, 1.2518815994262695, 1.25188148021698, 1.25188148021698, 1.25188148021698, 1.25188148021698, 1.25188148021698, 1.25188148021698, 1.2518813610076904, 1.2518812417984009, 1.25188148021698, 1.2518811225891113, 1.2518812417984009, 1.2518813610076904, 1.2518811225891113, 1.2518805265426636, 1.2518807649612427, 1.2518806457519531, 1.2518806457519531, 1.2518806457519531, 1.2518805265426636, 1.251880407333374, 1.2518805265426636, 1.2518794536590576, 1.8836939334869385, 3.70906400680542, 4.906723976135254, 4.911320209503174, 11.440518379211426, 2.380844831466675, 2.4576263427734375, 1.8531339168548584, 1.861107587814331, 1.853018045425415, 3.259195327758789, 1.6621475219726562, 1.662133812904358, 1.130199909210205, 1.130199909210205, 1.1302000284194946, 1.1302001476287842, 1.1302000284194946, 1.1302001476287842, 1.1302001476287842, 1.1302003860473633, 1.1302003860473633, 1.1302005052566528, 1.1302006244659424, 1.1302006244659424, 1.130200982093811, 1.1302014589309692, 1.130201816558838, 1.1302016973495483, 1.1302019357681274, 1.130201816558838, 1.1302038431167603, 1.1302045583724976, 1.1302050352096558, 1.1302052736282349, 1.1302052736282349, 1.1305365562438965, 2.25799298286438, 2.258376121520996, 2.2585196495056152, 2.315305471420288, 2.3226442337036133, 1.7263504266738892, 1.7834800481796265, 5.9664530754089355, 2.387566566467285, 1.7911763191223145, 1.7916778326034546, 11.440518379211426, 1.1947836875915527, 1.1947835683822632, 1.1947836875915527, 1.1947834491729736, 1.1947835683822632, 1.1947834491729736, 1.1947836875915527, 1.1947829723358154, 1.1947829723358154, 1.1947829723358154, 1.1947829723358154, 1.194783091545105, 1.1947829723358154, 1.1947829723358154, 1.194783091545105, 1.1947829723358154, 1.1947818994522095, 1.19478178024292, 1.1947818994522095, 1.1947818994522095, 1.1947818994522095, 1.194782018661499, 1.1947818994522095, 1.1947818994522095, 1.19478178024292, 2.3226442337036133, 2.4003219604492188, 9.032262802124023, 1.8039076328277588, 1.803908109664917, 1.7958900928497314, 1.8039716482162476, 4.206385612487793, 3.605539083480835, 1.8006572723388672, 1.8006548881530762, 1.8006479740142822, 1.8076574802398682, 4.911320209503174, 9.032262802124023, 1.1995261907577515, 1.199526071548462, 1.199526071548462, 1.1995255947113037, 1.1995255947113037, 1.1995255947113037, 1.1995257139205933, 1.199524998664856, 1.1995248794555664, 1.1995248794555664, 1.199524998664856, 1.199524998664856, 1.199524998664856, 1.1995248794555664, 1.199524998664856, 1.1995248794555664, 1.199524998664856, 1.1995248794555664, 1.1995238065719604, 1.199523687362671, 1.199523687362671, 1.1995235681533813, 4.906723976135254, 3.70906400680542, 2.4098715782165527, 2.453950881958008, 1.7313766479492188, 1.7313573360443115], \"loglift\": [30.0, 29.0, 28.0, 27.0, 26.0, 25.0, 24.0, 23.0, 22.0, 21.0, 20.0, 19.0, 18.0, 17.0, 16.0, 15.0, 14.0, 13.0, 12.0, 11.0, 10.0, 9.0, 8.0, 7.0, 6.0, 5.0, 4.0, 3.0, 2.0, 1.0, 1.371899962425232, 1.371899962425232, 1.371899962425232, 1.2382999658584595, 1.1742000579833984, 1.1742000579833984, 1.1742000579833984, 1.1742000579833984, 1.1742000579833984, 1.1742000579833984, 1.1742000579833984, 1.1742000579833984, 1.1742000579833984, 1.1742000579833984, 1.1742000579833984, 1.1742000579833984, 1.1742000579833984, 1.1742000579833984, 1.1742000579833984, 1.1742000579833984, 1.1742000579833984, 1.1742000579833984, 1.1742000579833984, 1.1742000579833984, 1.1742000579833984, 1.1742000579833984, 1.1742000579833984, 1.1742000579833984, 1.1742000579833984, 1.1742000579833984, 1.089900016784668, 1.0894999504089355, 1.0889999866485596, -0.09459999948740005, 0.8115000128746033, 0.4844000041484833, 0.7427999973297119, 0.8100000023841858, 1.2798999547958374, 1.277899980545044, 1.1555999517440796, 1.1555999517440796, 1.0256999731063843, 0.9695000052452087, 0.9695000052452087, 0.9695000052452087, 0.9695000052452087, 0.9695000052452087, 0.9695000052452087, 0.9695000052452087, 0.9695000052452087, 0.9695000052452087, 0.9695000052452087, 0.9695000052452087, 0.9695000052452087, 0.9695000052452087, 0.9695000052452087, 0.9695000052452087, 0.9695000052452087, 0.9695000052452087, 0.9695000052452087, 0.9695000052452087, 0.9695000052452087, 0.9695000052452087, 0.9695000052452087, 0.9695000052452087, 0.9695000052452087, 0.9695000052452087, 0.9591000080108643, 0.49219998717308044, 0.21330000460147858, 0.21130000054836273, -1.1390000581741333, 0.33309999108314514, 0.2980000078678131, 0.5795000195503235, 0.5735999941825867, 0.5777000188827515, 1.8310999870300293, 1.6480000019073486, 1.6480000019073486, 1.4284000396728516, 1.4284000396728516, 1.4284000396728516, 1.4284000396728516, 1.4284000396728516, 1.4284000396728516, 1.4284000396728516, 1.4284000396728516, 1.4284000396728516, 1.4284000396728516, 1.4284000396728516, 1.4284000396728516, 1.4284000396728516, 1.4284000396728516, 1.4284000396728516, 1.4284000396728516, 1.4284000396728516, 1.4284000396728516, 1.4283000230789185, 1.4283000230789185, 1.4283000230789185, 1.4283000230789185, 1.4283000230789185, 1.4234999418258667, 1.3452999591827393, 1.3423000574111938, 1.3420000076293945, 1.3176000118255615, 0.7123000025749207, 1.007699966430664, 0.9735000133514404, 1.434000015258789, 1.294800043106079, 1.2075999975204468, 1.2030999660491943, 1.1416000127792358, 1.0062999725341797, 1.0062999725341797, 1.0062999725341797, 1.0062999725341797, 1.0062999725341797, 1.0062999725341797, 1.0062999725341797, 1.0062999725341797, 1.0062999725341797, 1.0062999725341797, 1.0062999725341797, 1.0062999725341797, 1.0062999725341797, 1.0062999725341797, 1.0062999725341797, 1.0062999725341797, 1.0062999725341797, 1.0062999725341797, 1.0062999725341797, 1.0062999725341797, 1.0062999725341797, 1.0062999725341797, 1.0062999725341797, 1.0062999725341797, 1.0062999725341797, 0.9453999996185303, 0.9164999723434448, 0.23749999701976776, 0.5981000065803528, 0.5981000065803528, 0.5997999906539917, 0.5945000052452087, 1.3763999938964844, 1.3487999439239502, 1.200600028038025, 1.200600028038025, 1.1998000144958496, 1.1339999437332153, 1.056399941444397, 1.0470000505447388, 1.0008000135421753, 1.0008000135421753, 1.0008000135421753, 1.0008000135421753, 1.0008000135421753, 1.0008000135421753, 1.0008000135421753, 1.0006999969482422, 1.0006999969482422, 1.0006999969482422, 1.0006999969482422, 1.0006999969482422, 1.0006999969482422, 1.0006999969482422, 1.0006999969482422, 1.0006999969482422, 1.0006999969482422, 1.0006999969482422, 1.0006999969482422, 1.0006999969482422, 1.0006999969482422, 1.0006999969482422, 0.8450000286102295, 0.8508999943733215, 0.9086999893188477, 0.8927000164985657, 0.6345000267028809, 0.6341999769210815], \"logprob\": [30.0, 29.0, 28.0, 27.0, 26.0, 25.0, 24.0, 23.0, 22.0, 21.0, 20.0, 19.0, 18.0, 17.0, 16.0, 15.0, 14.0, 13.0, 12.0, 11.0, 10.0, 9.0, 8.0, 7.0, 6.0, 5.0, 4.0, 3.0, 2.0, 1.0, -4.022500038146973, -4.022500038146973, -4.022500038146973, -3.6454999446868896, -4.628600120544434, -4.628600120544434, -4.628600120544434, -4.628600120544434, -4.628600120544434, -4.628600120544434, -4.628600120544434, -4.628600120544434, -4.628600120544434, -4.628600120544434, -4.628600120544434, -4.628600120544434, -4.628600120544434, -4.628600120544434, -4.628600120544434, -4.628600120544434, -4.628600120544434, -4.628600120544434, -4.628600120544434, -4.628600120544434, -4.628600120544434, -4.628600120544434, -4.628600120544434, -4.628600120544434, -4.628600120544434, -4.628600120544434, -4.018599987030029, -4.020999908447266, -4.021500110626221, -3.648900032043457, -4.626299858093262, -4.627500057220459, -4.627699851989746, -4.627900123596191, -3.544600009918213, -3.546799898147583, -4.191199779510498, -4.191199779510498, -3.8150999546051025, -4.797299861907959, -4.797299861907959, -4.797299861907959, -4.797299861907959, -4.797299861907959, -4.797299861907959, -4.797299861907959, -4.797299861907959, -4.797299861907959, -4.797299861907959, -4.797299861907959, -4.797299861907959, -4.797299861907959, -4.797299861907959, -4.797299861907959, -4.797299861907959, -4.797299861907959, -4.797299861907959, -4.797299861907959, -4.797299861907959, -4.797299861907959, -4.797299861907959, -4.797299861907959, -4.797299861907959, -4.797299861907959, -4.399099826812744, -4.188499927520752, -4.187600135803223, -4.188600063323975, -4.693299770355225, -4.790900230407715, -4.7941999435424805, -4.795100212097168, -4.7967000007629395, -4.796899795532227, -2.9788999557495117, -3.835400104522705, -3.835400104522705, -4.4405999183654785, -4.4405999183654785, -4.4405999183654785, -4.4405999183654785, -4.440700054168701, -4.440700054168701, -4.440700054168701, -4.440700054168701, -4.440700054168701, -4.440700054168701, -4.440700054168701, -4.440700054168701, -4.440700054168701, -4.440700054168701, -4.440700054168701, -4.440700054168701, -4.440700054168701, -4.440700054168701, -4.440800189971924, -4.440800189971924, -4.440800189971924, -4.440800189971924, -4.440800189971924, -4.445199966430664, -3.831700086593628, -3.8345000743865967, -3.8348000049591064, -3.8343000411987305, -4.436500072479248, -4.43779993057251, -4.4394001960754395, -2.7713000774383545, -3.8262999057769775, -4.201000213623047, -4.2052001953125, -2.4126999378204346, -4.807199954986572, -4.807199954986572, -4.807199954986572, -4.807199954986572, -4.807199954986572, -4.807199954986572, -4.807199954986572, -4.807199954986572, -4.807199954986572, -4.807199954986572, -4.807199954986572, -4.807199954986572, -4.807199954986572, -4.807199954986572, -4.807199954986572, -4.807199954986572, -4.807199954986572, -4.807199954986572, -4.807199954986572, -4.807199954986572, -4.807199954986572, -4.807199954986572, -4.807199954986572, -4.807199954986572, -4.807199954986572, -4.2032999992370605, -4.199399948120117, -3.5532000064849854, -4.803400039672852, -4.803400039672852, -4.806099891662598, -4.8069000244140625, -3.178499937057495, -3.3601999282836914, -4.202700138092041, -4.202700138092041, -4.203499794006348, -4.265399932861328, -3.3434998989105225, -2.7437000274658203, -4.808800220489502, -4.808800220489502, -4.808800220489502, -4.808800220489502, -4.808800220489502, -4.808800220489502, -4.808800220489502, -4.808800220489502, -4.808800220489502, -4.808800220489502, -4.808800220489502, -4.808800220489502, -4.808800220489502, -4.808800220489502, -4.808800220489502, -4.808800220489502, -4.808800220489502, -4.808800220489502, -4.808800220489502, -4.808800220489502, -4.808800220489502, -4.808800220489502, -3.555799961090088, -3.8297998905181885, -4.203199863433838, -4.201099872589111, -4.80810022354126, -4.8084001541137695]}, \"token.table\": {\"Topic\": [4, 1, 1, 3, 4, 2, 3, 4, 4, 2, 5, 4, 4, 4, 2, 1, 3, 1, 4, 1, 3, 5, 4, 2, 5, 2, 3, 4, 5, 5, 5, 5, 3, 2, 4, 4, 1, 5, 1, 2, 1, 3, 1, 3, 1, 2, 4, 5, 1, 2, 4, 5, 1, 1, 5, 1, 5, 2, 3, 3, 1, 5, 5, 2, 2, 2, 4, 5, 5, 3, 5, 5, 3, 2, 2, 1, 4, 5, 4, 4, 3, 1, 2, 5, 3, 3, 1, 2, 2, 5, 2, 1, 2, 2, 3, 3, 5, 3, 4, 1, 3, 1, 4, 4, 1, 2, 4, 5, 1, 5, 2, 1, 4, 5, 1, 2, 4, 5, 3, 4, 2, 1, 3, 5, 4, 1, 1, 5, 1, 5, 3, 2, 5, 5, 3, 5, 2, 4, 1, 5, 2, 2, 5, 3, 4, 5, 3, 2, 2, 3, 3, 4, 4, 1, 4, 4, 5, 4, 4, 1, 3, 5, 2, 1, 2, 1, 2, 1, 4, 2, 3, 4, 1, 4, 4, 2, 3, 4, 4, 1, 1, 5, 2, 3, 3, 4, 5, 1, 4, 1, 4, 2, 2, 5, 2, 3, 4, 3, 5, 1, 4, 3, 3, 3, 2, 5, 5, 2, 1, 2, 4, 3, 1, 2, 1, 2, 3], \"Freq\": [0.8369728326797485, 0.8280841112136841, 0.5504125952720642, 0.4427678883075714, 0.4427678883075714, 0.7987977862358093, 0.5792566537857056, 0.5792566537857056, 0.8380188345909119, 0.20361123979091644, 0.6108337044715881, 0.8369729518890381, 0.8369728326797485, 0.8369715809822083, 0.7987982630729675, 0.8280843496322632, 0.8847988247871399, 0.8280841708183289, 0.8369717001914978, 0.5504128932952881, 0.8845357298851013, 0.8336625695228577, 0.8369719982147217, 0.5396601557731628, 0.5396601557731628, 0.4319084584712982, 0.4319084584712982, 0.8369717001914978, 0.8336634039878845, 0.8336634039878845, 0.8336641788482666, 0.8336634039878845, 0.8847976326942444, 0.7987982630729675, 0.8369721174240112, 0.8369729518890381, 0.8280858993530273, 0.5532021522521973, 0.8280841708183289, 0.7987976670265198, 0.8280844688415527, 0.8847951889038086, 0.5748891830444336, 0.5748891830444336, 0.8280841112136841, 0.11071422696113586, 0.3321426808834076, 0.6642853617668152, 0.1748172491788864, 0.0874086245894432, 0.6992689967155457, 0.0874086245894432, 0.8280843496322632, 0.8280844688415527, 0.8336634039878845, 0.8280858993530273, 0.8336629271507263, 0.798797607421875, 0.8847991228103638, 0.8847977519035339, 0.4135652184486389, 0.4135652184486389, 0.8336642980575562, 0.7987977266311646, 0.9338966608047485, 0.2038019746541977, 0.2038019746541977, 0.6114059090614319, 0.8336633443832397, 0.6016362905502319, 0.8336634039878845, 0.8336642384529114, 0.9204726219177246, 0.7987976670265198, 0.7987983226776123, 0.554332435131073, 0.554332435131073, 0.9509351849555969, 0.8369728326797485, 0.8369717597961426, 0.8847992420196533, 0.8280858993530273, 0.7987982034683228, 0.8336633443832397, 0.884799063205719, 0.8847950100898743, 0.8280841708183289, 0.7987976670265198, 0.6328713893890381, 0.31643569469451904, 0.7987976670265198, 0.5373144745826721, 0.5373144745826721, 0.7987976670265198, 0.8847987651824951, 0.5775750875473022, 0.5775750875473022, 0.8847986459732056, 0.8369719982147217, 0.8280843496322632, 0.884799063205719, 0.8280841112136841, 0.8369727730751038, 0.5581360459327698, 0.8280844688415527, 0.7987977862358093, 0.8369721174240112, 0.8336633443832397, 0.8280842900276184, 0.8336625099182129, 0.7987979054450989, 0.4143825173377991, 0.4143825173377991, 0.8336633443832397, 0.5504128932952881, 0.7987982034683228, 0.5568269491195679, 0.5568269491195679, 0.44287118315696716, 0.44287118315696716, 0.7987976670265198, 0.8280858993530273, 0.8847977519035339, 0.8336629271507263, 0.8369728326797485, 0.8280844688415527, 0.6606765389442444, 0.3303382694721222, 0.8280842900276184, 0.8336629271507263, 0.8847984075546265, 0.5248315334320068, 0.8336633443832397, 0.8336633443832397, 0.577581524848938, 0.577581524848938, 0.5308718085289001, 0.8369728326797485, 0.8280858397483826, 0.5553556084632874, 0.9340914487838745, 0.4075061082839966, 0.4075061082839966, 0.8847991228103638, 0.8369721174240112, 0.8336628079414368, 0.8847992420196533, 0.7987979054450989, 0.5607015490531921, 0.5607015490531921, 0.8847988247871399, 0.837673008441925, 0.8369721174240112, 0.8280844688415527, 0.8369721174240112, 0.8369721174240112, 0.8336642384529114, 0.8369715809822083, 0.8369715809822083, 0.5748400688171387, 0.5748400688171387, 0.8320531249046326, 0.7987976670265198, 0.8280841708183289, 0.5248338580131531, 0.8280841708183289, 0.798797607421875, 0.5543519854545593, 0.5543519854545593, 0.798798143863678, 0.4427960515022278, 0.4427960515022278, 0.4166107773780823, 0.4166107773780823, 0.8369721174240112, 0.7987982630729675, 0.43054378032684326, 0.43054378032684326, 0.5582923293113708, 0.8280844688415527, 0.4149598777294159, 0.4149598777294159, 0.7987989783287048, 0.884796142578125, 0.8847950100898743, 0.8369717597961426, 0.5553527474403381, 0.41438528895378113, 0.41438528895378113, 0.5543521046638489, 0.5543521046638489, 0.7987977266311646, 0.26960980892181396, 0.5392196178436279, 0.4200189709663391, 0.4200189709663391, 0.4200189709663391, 0.6016313433647156, 0.5553535223007202, 0.8280844688415527, 0.8369728326797485, 0.884797990322113, 0.8847978115081787, 0.884799063205719, 0.53962641954422, 0.53962641954422, 0.8336625695228577, 0.7987976670265198, 0.4068966805934906, 0.4068966805934906, 0.4068966805934906, 0.8847986459732056, 0.8280858993530273, 0.7987982034683228, 0.5374476313591003, 0.5374476313591003, 0.884795606136322], \"Term\": [\"abusive\", \"actually\", \"afraid\", \"alone\", \"alone\", \"annoying\", \"another\", \"another\", \"anymore\", \"anyone\", \"anyone\", \"anything\", \"apart\", \"apparently\", \"appeal\", \"appraisal\", \"argument\", \"base\", \"basic\", \"better\", \"bitch\", \"black\", \"bleak\", \"boyfriend\", \"boyfriend\", \"break\", \"break\", \"bring\", \"bunch\", \"care\", \"celexa\", \"choice\", \"college\", \"constantly\", \"contemplate\", \"conversationalist\", \"convince\", \"could\", \"crazy\", \"cripple\", \"critical\", \"crushing\", \"death\", \"death\", \"delete\", \"depress\", \"depress\", \"depress\", \"depression\", \"depression\", \"depression\", \"depression\", \"depressive\", \"disorder\", \"dream\", \"dying\", \"embarrassment\", \"embracing\", \"emotionless\", \"empty\", \"enough\", \"enough\", \"evening\", \"everyday\", \"everyone\", \"everything\", \"everything\", \"everything\", \"excite\", \"fail\", \"failure\", \"fallout\", \"feeling\", \"fighting\", \"financial\", \"found\", \"found\", \"friend\", \"friendship\", \"frustrate\", \"fucking\", \"fully\", \"future\", \"getting\", \"give\", \"great\", \"group\", \"happily\", \"happy\", \"happy\", \"hardly\", \"help\", \"help\", \"honest\", \"hopelessly\", \"important\", \"important\", \"impossible\", \"inner\", \"interest\", \"leave\", \"life\", \"little\", \"lonely\", \"major\", \"make\", \"maoi\", \"married\", \"might\", \"miss\", \"mistake\", \"month\", \"month\", \"musing\", \"need\", \"never\", \"night\", \"night\", \"nothing\", \"nothing\", \"openly\", \"others\", \"painful\", \"parent\", \"passion\", \"perhaps\", \"please\", \"please\", \"poeple\", \"point\", \"positive\", \"post\", \"postgrad\", \"pretending\", \"pretty\", \"pretty\", \"problem\", \"purpose\", \"purposeless\", \"quite\", \"really\", \"reddit\", \"reddit\", \"redis\", \"refractory\", \"relationship\", \"remember\", \"remind\", \"right\", \"right\", \"romantic\", \"school\", \"seem\", \"selegiline\", \"self\", \"severe\", \"severely\", \"skill\", \"social\", \"somebody\", \"somebody\", \"someone\", \"something\", \"sometimes\", \"sorry\", \"sound\", \"start\", \"starting\", \"starting\", \"status\", \"stick\", \"stick\", \"story\", \"story\", \"stranger\", \"stress\", \"suck\", \"suck\", \"suicide\", \"system\", \"taking\", \"taking\", \"thank\", \"theory\", \"therapist\", \"thing\", \"things\", \"think\", \"think\", \"thinking\", \"thinking\", \"though\", \"thought\", \"thought\", \"tire\", \"tire\", \"tire\", \"today\", \"tomorrow\", \"transdermal\", \"try\", \"update\", \"upset\", \"wanna\", \"want\", \"want\", \"white\", \"works\", \"worse\", \"worse\", \"worse\", \"worth\", \"worthless\", \"would\", \"write\", \"write\", \"years\"]}, \"R\": 30, \"lambda.step\": 0.01, \"plot.opts\": {\"xlab\": \"PC1\", \"ylab\": \"PC2\"}, \"topic.order\": [1, 2, 3, 4, 5]};\n",
       "\n",
       "function LDAvis_load_lib(url, callback){\n",
       "  var s = document.createElement('script');\n",
       "  s.src = url;\n",
       "  s.async = true;\n",
       "  s.onreadystatechange = s.onload = callback;\n",
       "  s.onerror = function(){console.warn(\"failed to load library \" + url);};\n",
       "  document.getElementsByTagName(\"head\")[0].appendChild(s);\n",
       "}\n",
       "\n",
       "if(typeof(LDAvis) !== \"undefined\"){\n",
       "   // already loaded: just create the visualization\n",
       "   !function(LDAvis){\n",
       "       new LDAvis(\"#\" + \"ldavis_el3790112271620400295321764\", ldavis_el3790112271620400295321764_data);\n",
       "   }(LDAvis);\n",
       "}else if(typeof define === \"function\" && define.amd){\n",
       "   // require.js is available: use it to load d3/LDAvis\n",
       "   require.config({paths: {d3: \"https://cdnjs.cloudflare.com/ajax/libs/d3/3.5.5/d3.min\"}});\n",
       "   require([\"d3\"], function(d3){\n",
       "      window.d3 = d3;\n",
       "      LDAvis_load_lib(\"https://cdn.rawgit.com/bmabey/pyLDAvis/files/ldavis.v1.0.0.js\", function(){\n",
       "        new LDAvis(\"#\" + \"ldavis_el3790112271620400295321764\", ldavis_el3790112271620400295321764_data);\n",
       "      });\n",
       "    });\n",
       "}else{\n",
       "    // require.js not available: dynamically load d3 & LDAvis\n",
       "    LDAvis_load_lib(\"https://cdnjs.cloudflare.com/ajax/libs/d3/3.5.5/d3.min.js\", function(){\n",
       "         LDAvis_load_lib(\"https://cdn.rawgit.com/bmabey/pyLDAvis/files/ldavis.v1.0.0.js\", function(){\n",
       "                 new LDAvis(\"#\" + \"ldavis_el3790112271620400295321764\", ldavis_el3790112271620400295321764_data);\n",
       "            })\n",
       "         });\n",
       "}\n",
       "</script>"
      ],
      "text/plain": [
       "<IPython.core.display.HTML object>"
      ]
     },
     "execution_count": 20,
     "metadata": {},
     "output_type": "execute_result"
    }
   ],
   "source": [
    "import pyLDAvis.gensim\n",
    "lda_display = pyLDAvis.gensim.prepare(lda, corpus, dictionary, sort_topics=False)\n",
    "pyLDAvis.display(lda_display)"
   ]
  },
  {
   "cell_type": "code",
   "execution_count": 21,
   "metadata": {},
   "outputs": [
    {
     "name": "stderr",
     "output_type": "stream",
     "text": [
      "/anaconda3/lib/python3.7/site-packages/pyLDAvis/_prepare.py:257: FutureWarning: Sorting because non-concatenation axis is not aligned. A future version\n",
      "of pandas will change to not sort by default.\n",
      "\n",
      "To accept the future behavior, pass 'sort=False'.\n",
      "\n",
      "To retain the current behavior and silence the warning, pass 'sort=True'.\n",
      "\n",
      "  return pd.concat([default_term_info] + list(topic_dfs))\n"
     ]
    },
    {
     "data": {
      "text/html": [
       "\n",
       "<link rel=\"stylesheet\" type=\"text/css\" href=\"https://cdn.rawgit.com/bmabey/pyLDAvis/files/ldavis.v1.0.0.css\">\n",
       "\n",
       "\n",
       "<div id=\"ldavis_el3790112271019128973768912\"></div>\n",
       "<script type=\"text/javascript\">\n",
       "\n",
       "var ldavis_el3790112271019128973768912_data = {\"mdsDat\": {\"x\": [0.11701676009281958, -0.01619166896343831, -0.10082509112938132], \"y\": [0.039322008733844296, -0.10121272373413713, 0.06189071500029284], \"topics\": [1, 2, 3], \"cluster\": [1, 1, 1], \"Freq\": [39.65190887451172, 34.69673156738281, 25.651363372802734]}, \"tinfo\": {\"Category\": [\"Default\", \"Default\", \"Default\", \"Default\", \"Default\", \"Default\", \"Default\", \"Default\", \"Default\", \"Default\", \"Default\", \"Default\", \"Default\", \"Default\", \"Default\", \"Default\", \"Default\", \"Default\", \"Default\", \"Default\", \"Default\", \"Default\", \"Default\", \"Default\", \"Default\", \"Default\", \"Default\", \"Default\", \"Default\", \"Default\", \"Topic1\", \"Topic1\", \"Topic1\", \"Topic1\", \"Topic1\", \"Topic1\", \"Topic1\", \"Topic1\", \"Topic1\", \"Topic1\", \"Topic1\", \"Topic1\", \"Topic1\", \"Topic1\", \"Topic1\", \"Topic1\", \"Topic1\", \"Topic1\", \"Topic1\", \"Topic1\", \"Topic1\", \"Topic1\", \"Topic1\", \"Topic1\", \"Topic1\", \"Topic1\", \"Topic1\", \"Topic1\", \"Topic1\", \"Topic1\", \"Topic1\", \"Topic1\", \"Topic1\", \"Topic1\", \"Topic1\", \"Topic1\", \"Topic1\", \"Topic1\", \"Topic2\", \"Topic2\", \"Topic2\", \"Topic2\", \"Topic2\", \"Topic2\", \"Topic2\", \"Topic2\", \"Topic2\", \"Topic2\", \"Topic2\", \"Topic2\", \"Topic2\", \"Topic2\", \"Topic2\", \"Topic2\", \"Topic2\", \"Topic2\", \"Topic2\", \"Topic2\", \"Topic2\", \"Topic2\", \"Topic2\", \"Topic2\", \"Topic2\", \"Topic2\", \"Topic2\", \"Topic2\", \"Topic2\", \"Topic2\", \"Topic2\", \"Topic2\", \"Topic2\", \"Topic2\", \"Topic2\", \"Topic2\", \"Topic2\", \"Topic2\", \"Topic2\", \"Topic2\", \"Topic2\", \"Topic2\", \"Topic3\", \"Topic3\", \"Topic3\", \"Topic3\", \"Topic3\", \"Topic3\", \"Topic3\", \"Topic3\", \"Topic3\", \"Topic3\", \"Topic3\", \"Topic3\", \"Topic3\", \"Topic3\", \"Topic3\", \"Topic3\", \"Topic3\", \"Topic3\", \"Topic3\", \"Topic3\", \"Topic3\", \"Topic3\", \"Topic3\", \"Topic3\", \"Topic3\", \"Topic3\", \"Topic3\", \"Topic3\", \"Topic3\", \"Topic3\", \"Topic3\", \"Topic3\", \"Topic3\", \"Topic3\", \"Topic3\", \"Topic3\", \"Topic3\"], \"Freq\": [10.0, 6.0, 9.0, 2.0, 2.0, 2.0, 3.0, 3.0, 4.0, 3.0, 3.0, 2.0, 2.0, 4.0, 4.0, 2.0, 2.0, 2.0, 2.0, 1.0, 1.0, 1.0, 1.0, 1.0, 1.0, 1.0, 2.0, 2.0, 3.0, 1.0, 5.764898777008057, 3.3134756088256836, 2.691823720932007, 2.6914873123168945, 2.069960355758667, 2.069842576980591, 2.0540554523468018, 1.449827790260315, 1.449631929397583, 1.4494835138320923, 1.448794960975647, 1.448742389678955, 1.4487082958221436, 1.4485468864440918, 1.4475879669189453, 1.4464727640151978, 1.4460607767105103, 3.3553006649017334, 1.4143317937850952, 3.473834753036499, 6.44799280166626, 2.068157911300659, 0.8284493088722229, 0.8284463882446289, 0.8284460306167603, 0.8284452557563782, 0.8284362554550171, 0.8283679485321045, 0.8283660411834717, 0.8283655643463135, 2.043325901031494, 1.4576067924499512, 1.4834973812103271, 1.4357023239135742, 1.362924337387085, 1.3787033557891846, 0.8482412099838257, 0.838001549243927, 2.047982931137085, 2.0433597564697266, 1.4342622756958008, 1.432512879371643, 1.432340383529663, 1.4318642616271973, 1.4311752319335938, 1.430463433265686, 1.4293246269226074, 1.372307538986206, 3.3492376804351807, 0.8197193741798401, 0.8197177648544312, 0.8197160959243774, 0.8197157382965088, 0.8197147250175476, 0.8197144269943237, 0.8197132349014282, 0.8197119832038879, 0.8197091221809387, 0.8197082877159119, 0.8195046186447144, 0.8194663524627686, 0.8194607496261597, 0.8194600939750671, 0.8194394707679749, 0.8194356560707092, 0.8194286823272705, 0.8194102048873901, 0.8194223046302795, 1.4510247707366943, 2.062628746032715, 1.4215526580810547, 2.638343572616577, 1.2766982316970825, 1.3906952142715454, 0.8443408012390137, 0.8402718305587769, 0.8388503789901733, 0.8463420271873474, 0.8328263759613037, 0.8258253931999207, 9.187751770019531, 1.853557825088501, 1.8530776500701904, 1.8210798501968384, 0.7466155886650085, 0.7466133236885071, 0.746612012386322, 0.746610164642334, 0.746610164642334, 0.7466100454330444, 0.7466096878051758, 0.746609628200531, 0.7466095685958862, 0.7466090321540833, 0.7463443279266357, 0.7463167309761047, 0.7463078498840332, 0.7462943196296692, 0.7462882399559021, 0.7462856769561768, 0.7462847232818604, 0.7462846040725708, 0.7462822794914246, 0.7462822794914246, 0.7462802529335022, 0.7462798953056335, 0.7462776303291321, 0.7462769746780396, 0.7462762594223022, 0.7460958361625671, 1.9443347454071045, 1.2937848567962646, 0.7645324468612671, 0.7595451474189758, 0.7611684203147888, 0.7576901912689209, 0.7484709024429321], \"Term\": [\"depression\", \"anymore\", \"depress\", \"story\", \"month\", \"suck\", \"someone\", \"feeling\", \"anyone\", \"everyone\", \"really\", \"alone\", \"think\", \"friend\", \"everything\", \"stick\", \"enough\", \"tire\", \"school\", \"afraid\", \"tomorrow\", \"somebody\", \"things\", \"fail\", \"today\", \"pretty\", \"taking\", \"break\", \"happy\", \"starting\", \"anymore\", \"someone\", \"everyone\", \"really\", \"enough\", \"tire\", \"school\", \"post\", \"write\", \"could\", \"help\", \"want\", \"sorry\", \"better\", \"thinking\", \"quite\", \"lonely\", \"friend\", \"another\", \"everything\", \"depress\", \"happy\", \"annoying\", \"remind\", \"mistake\", \"make\", \"everyday\", \"stress\", \"would\", \"constantly\", \"please\", \"reddit\", \"nothing\", \"thought\", \"feeling\", \"anyone\", \"worse\", \"making\", \"alone\", \"think\", \"afraid\", \"tomorrow\", \"somebody\", \"things\", \"fail\", \"today\", \"pretty\", \"starting\", \"anyone\", \"group\", \"base\", \"poeple\", \"might\", \"crazy\", \"actually\", \"sound\", \"sometimes\", \"delete\", \"life\", \"honest\", \"happily\", \"cripple\", \"something\", \"start\", \"hardly\", \"black\", \"openly\", \"miss\", \"taking\", \"thought\", \"break\", \"depress\", \"everything\", \"depression\", \"need\", \"important\", \"death\", \"please\", \"stick\", \"boyfriend\", \"depression\", \"story\", \"month\", \"suck\", \"major\", \"critical\", \"perhaps\", \"interest\", \"system\", \"transdermal\", \"selegiline\", \"appraisal\", \"depressive\", \"disorder\", \"fucking\", \"redis\", \"give\", \"contemplate\", \"excite\", \"stranger\", \"self\", \"severe\", \"remember\", \"married\", \"refractory\", \"pretending\", \"inner\", \"getting\", \"maoi\", \"issue\", \"feeling\", \"stick\", \"night\", \"problem\", \"worse\", \"break\", \"happy\"], \"Total\": [10.0, 6.0, 9.0, 2.0, 2.0, 2.0, 3.0, 3.0, 4.0, 3.0, 3.0, 2.0, 2.0, 4.0, 4.0, 2.0, 2.0, 2.0, 2.0, 1.0, 1.0, 1.0, 1.0, 1.0, 1.0, 1.0, 2.0, 2.0, 3.0, 1.0, 6.192872524261475, 3.7068893909454346, 3.0852668285369873, 3.0852301120758057, 2.4636342525482178, 2.4636290073394775, 2.4621052742004395, 1.8421099185943604, 1.8420963287353516, 1.8420872688293457, 1.8420791625976562, 1.8420603275299072, 1.8420403003692627, 1.8420648574829102, 1.841971516609192, 1.8419581651687622, 1.8418763875961304, 4.322279930114746, 1.8386650085449219, 4.9386091232299805, 9.275287628173828, 3.0236597061157227, 1.2205053567886353, 1.2205052375793457, 1.2205054759979248, 1.2205052375793457, 1.2205047607421875, 1.220499873161316, 1.220499873161316, 1.2204999923706055, 3.0782887935638428, 2.4030656814575195, 2.457406759262085, 3.6869168281555176, 3.513995885848999, 4.916419982910156, 2.394453763961792, 1.8355122804641724, 2.4439375400543213, 2.443958044052124, 1.828965663909912, 1.8288758993148804, 1.8288685083389282, 1.82880699634552, 1.828776240348816, 1.8286774158477783, 1.828885793685913, 1.8294481039047241, 4.916419982910156, 1.2139387130737305, 1.2139384746551514, 1.2139387130737305, 1.213938593864441, 1.2139382362365723, 1.2139383554458618, 1.2139384746551514, 1.2139384746551514, 1.2139381170272827, 1.2139381170272827, 1.213918685913086, 1.213915467262268, 1.2139148712158203, 1.2139148712158203, 1.2139133214950562, 1.213912844657898, 1.2139312028884888, 1.2139103412628174, 1.213930606842041, 2.3906171321868896, 3.6869168281555176, 2.388056516647339, 9.275287628173828, 4.9386091232299805, 10.787178039550781, 1.8351515531539917, 1.8351819515228271, 1.8351792097091675, 3.0782887935638428, 2.3354904651641846, 1.8353620767593384, 10.787178039550781, 2.280754804611206, 2.2808027267456055, 2.2842788696289062, 1.1590616703033447, 1.1590619087219238, 1.1590619087219238, 1.159062147140503, 1.1590622663497925, 1.159062147140503, 1.1590622663497925, 1.159062147140503, 1.1590622663497925, 1.159062385559082, 1.1590882539749146, 1.1590909957885742, 1.159091830253601, 1.1590932607650757, 1.1590938568115234, 1.1590940952301025, 1.159094214439392, 1.1590943336486816, 1.1590943336486816, 1.1590945720672607, 1.1590945720672607, 1.1590946912765503, 1.159095048904419, 1.159095048904419, 1.159095048904419, 1.1591129302978516, 3.513995885848999, 2.3354904651641846, 1.772335410118103, 1.7728230953216553, 2.394453763961792, 2.388056516647339, 3.0236597061157227], \"loglift\": [30.0, 29.0, 28.0, 27.0, 26.0, 25.0, 24.0, 23.0, 22.0, 21.0, 20.0, 19.0, 18.0, 17.0, 16.0, 15.0, 14.0, 13.0, 12.0, 11.0, 10.0, 9.0, 8.0, 7.0, 6.0, 5.0, 4.0, 3.0, 2.0, 1.0, 0.8533999919891357, 0.8127999901771545, 0.7886000275611877, 0.7885000109672546, 0.7508999705314636, 0.7508999705314636, 0.7437999844551086, 0.6855999827384949, 0.6854000091552734, 0.6852999925613403, 0.6848999857902527, 0.6848000288009644, 0.6848000288009644, 0.6847000122070312, 0.6840999722480774, 0.6833000183105469, 0.6830999851226807, 0.6718000173568726, 0.6625999808311462, 0.573199987411499, 0.5613999962806702, 0.545199990272522, 0.5375999808311462, 0.5375999808311462, 0.5375999808311462, 0.5375999808311462, 0.5375999808311462, 0.5375000238418579, 0.5375000238418579, 0.5375000238418579, 0.5152000188827515, 0.4250999987125397, 0.4203000068664551, -0.01810000091791153, -0.022099999710917473, -0.3463999927043915, -0.11270000040531158, 0.14100000262260437, 0.8817999958992004, 0.8794999718666077, 0.8154000043869019, 0.814300000667572, 0.8141000270843506, 0.8137999773025513, 0.8133999705314636, 0.8129000067710876, 0.8119999766349792, 0.7710000276565552, 0.6747000217437744, 0.6658999919891357, 0.6658999919891357, 0.6658999919891357, 0.6658999919891357, 0.6658999919891357, 0.6658999919891357, 0.6658999919891357, 0.6658999919891357, 0.6657999753952026, 0.6657999753952026, 0.6656000018119812, 0.6656000018119812, 0.6656000018119812, 0.6656000018119812, 0.6654999852180481, 0.6654999852180481, 0.6654999852180481, 0.6654999852180481, 0.6654999852180481, 0.5591999888420105, 0.47769999504089355, 0.5397999882698059, -0.19869999587535858, -0.29429998993873596, -0.9900000095367432, 0.28220000863075256, 0.2773999869823456, 0.27570000290870667, -0.23270000517368317, 0.027400000020861626, 0.2599000036716461, 1.2000999450683594, 1.1532000303268433, 1.152899980545044, 1.1339999437332153, 0.920799970626831, 0.920799970626831, 0.920799970626831, 0.920799970626831, 0.920799970626831, 0.920799970626831, 0.9207000136375427, 0.9207000136375427, 0.9207000136375427, 0.9207000136375427, 0.9204000234603882, 0.9203000068664551, 0.9203000068664551, 0.9203000068664551, 0.9203000068664551, 0.9203000068664551, 0.9203000068664551, 0.9203000068664551, 0.9203000068664551, 0.9203000068664551, 0.9203000068664551, 0.9203000068664551, 0.9203000068664551, 0.9203000068664551, 0.9203000068664551, 0.9200000166893005, 0.7687000036239624, 0.7699000239372253, 0.5198000073432922, 0.5130000114440918, 0.21449999511241913, 0.2125999927520752, -0.035599999129772186], \"logprob\": [30.0, 29.0, 28.0, 27.0, 26.0, 25.0, 24.0, 23.0, 22.0, 21.0, 20.0, 19.0, 18.0, 17.0, 16.0, 15.0, 14.0, 13.0, 12.0, 11.0, 10.0, 9.0, 8.0, 7.0, 6.0, 5.0, 4.0, 3.0, 2.0, 1.0, -3.3145999908447266, -3.8684000968933105, -4.076200008392334, -4.076300144195557, -4.338900089263916, -4.339000225067139, -4.34660005569458, -4.695000171661377, -4.695099830627441, -4.695199966430664, -4.695700168609619, -4.695700168609619, -4.695799827575684, -4.695899963378906, -4.696499824523926, -4.697299957275391, -4.6975998878479, -3.8559000492095947, -4.719799995422363, -3.821199893951416, -3.202699899673462, -4.339799880981445, -5.2546000480651855, -5.2546000480651855, -5.2546000480651855, -5.2546000480651855, -5.2546000480651855, -5.254700183868408, -5.254700183868408, -5.254700183868408, -4.351900100708008, -4.689599990844727, -4.671999931335449, -4.704800128936768, -4.756800174713135, -4.745299816131592, -5.230999946594238, -5.243199825286865, -4.216100215911865, -4.218299865722656, -4.572299957275391, -4.573500156402588, -4.573599815368652, -4.573999881744385, -4.574399948120117, -4.574900150299072, -4.575699806213379, -4.616399765014648, -3.7242000102996826, -5.131700038909912, -5.131700038909912, -5.131700038909912, -5.131700038909912, -5.131700038909912, -5.131700038909912, -5.131700038909912, -5.131700038909912, -5.131700038909912, -5.131700038909912, -5.131999969482422, -5.131999969482422, -5.131999969482422, -5.131999969482422, -5.1321001052856445, -5.1321001052856445, -5.1321001052856445, -5.1321001052856445, -5.1321001052856445, -4.560699939727783, -4.209000110626221, -4.581200122833252, -3.9628000259399414, -4.688700199127197, -4.603099822998047, -5.102099895477295, -5.10699987411499, -5.108699798583984, -5.099800109863281, -5.115900039672852, -5.124300003051758, -2.4130001068115234, -4.013800144195557, -4.013999938964844, -4.031499862670898, -4.923099994659424, -4.923099994659424, -4.923099994659424, -4.923099994659424, -4.923099994659424, -4.923099994659424, -4.923099994659424, -4.923099994659424, -4.923099994659424, -4.923099994659424, -4.923500061035156, -4.923500061035156, -4.923500061035156, -4.923500061035156, -4.923500061035156, -4.923500061035156, -4.923500061035156, -4.923500061035156, -4.923500061035156, -4.923500061035156, -4.923500061035156, -4.923500061035156, -4.923500061035156, -4.923500061035156, -4.923600196838379, -4.923799991607666, -3.9660000801086426, -4.373300075531006, -4.899400234222412, -4.905900001525879, -4.903800010681152, -4.908400058746338, -4.920599937438965]}, \"token.table\": {\"Topic\": [2, 2, 2, 1, 1, 1, 1, 2, 3, 2, 1, 2, 1, 2, 2, 3, 1, 3, 1, 2, 2, 3, 1, 2, 2, 1, 2, 2, 3, 3, 3, 1, 1, 1, 1, 2, 3, 2, 1, 3, 1, 2, 3, 3, 3, 2, 2, 1, 3, 2, 1, 2, 1, 2, 3, 3, 3, 2, 1, 3, 1, 1, 2, 3, 3, 2, 2, 1, 3, 1, 2, 2, 3, 1, 2, 2, 3, 1, 2, 2, 1, 3, 2, 2, 3, 1, 1, 1, 3, 3, 3, 3, 1, 1, 3, 3, 3, 2, 1, 2, 2, 1, 2, 2, 2, 2, 3, 3, 3, 1, 3, 3, 2, 3, 2, 2, 1, 1, 2, 1, 2, 2, 3, 1, 1, 2, 3, 1, 1], \"Freq\": [0.8237650394439697, 0.5467571020126343, 0.8183515071868896, 0.8193327188491821, 0.5438728332519531, 0.9688557386398315, 0.20340003073215485, 0.6102001070976257, 0.8627665042877197, 0.823764979839325, 0.5428690314292908, 0.8237699270248413, 0.5448516011238098, 0.5448516011238098, 0.4187505543231964, 0.4187505543231964, 0.8193363547325134, 0.8627433180809021, 0.5428624749183655, 0.8237651586532593, 0.8237810134887695, 0.862766683101654, 0.5449059009552002, 0.5449059009552002, 0.823765218257904, 0.6468802094459534, 0.3234401047229767, 0.09270264953374863, 0.8343238830566406, 0.862766444683075, 0.8627663254737854, 0.8118088245391846, 0.8193331360816956, 0.9723632335662842, 0.6074584722518921, 0.20248615741729736, 0.8627429008483887, 0.5468137264251709, 0.28457632660865784, 0.5691526532173157, 0.6940781474113464, 0.23135937750339508, 0.862747073173523, 0.862742006778717, 0.8627443909645081, 0.8237648010253906, 0.8237805962562561, 0.6614500880241394, 0.3307250440120697, 0.8237823843955994, 0.5428648591041565, 0.8237783908843994, 0.5449051260948181, 0.5449051260948181, 0.862742006778717, 0.8627665042877197, 0.8627287149429321, 0.823765218257904, 0.5429245829582214, 0.8627668619155884, 0.8193328380584717, 0.5448070168495178, 0.5448070168495178, 0.862742006778717, 0.8627423644065857, 0.8237649202346802, 0.8237703442573547, 0.8193326592445374, 0.8768842816352844, 0.5449141263961792, 0.5449141263961792, 0.564227283000946, 0.564227283000946, 0.4069330394268036, 0.4069330394268036, 0.8237840533256531, 0.862766683101654, 0.6497116088867188, 0.3248558044433594, 0.8237648010253906, 0.5428557991981506, 0.8627423048019409, 0.5467810034751892, 0.5640720725059509, 0.5640720725059509, 0.5429005026817322, 0.9723747968673706, 0.41613510251045227, 0.41613510251045227, 0.8627450466156006, 0.8627423644065857, 0.86274254322052, 0.8193328380584717, 0.8123129606246948, 0.862766444683075, 0.8627426624298096, 0.86274254322052, 0.5467861890792847, 0.809303879737854, 0.8237810134887695, 0.823764979839325, 0.5428763031959534, 0.823764979839325, 0.8237820267677307, 0.5466129183769226, 0.42817559838294983, 0.42817559838294983, 0.87690269947052, 0.8627427220344543, 0.8193364143371582, 0.875549852848053, 0.862766444683075, 0.4183020293712616, 0.4183020293712616, 0.5468045473098755, 0.8183446526527405, 0.542896568775177, 0.2712293267250061, 0.5424586534500122, 0.8118105530738831, 0.5468432903289795, 0.546783983707428, 0.8627665042877197, 0.5428704023361206, 0.41763177514076233, 0.41763177514076233, 0.41763177514076233, 0.8193364143371582, 0.5428597927093506], \"Term\": [\"actually\", \"afraid\", \"alone\", \"annoying\", \"another\", \"anymore\", \"anyone\", \"anyone\", \"appraisal\", \"base\", \"better\", \"black\", \"boyfriend\", \"boyfriend\", \"break\", \"break\", \"constantly\", \"contemplate\", \"could\", \"crazy\", \"cripple\", \"critical\", \"death\", \"death\", \"delete\", \"depress\", \"depress\", \"depression\", \"depression\", \"depressive\", \"disorder\", \"enough\", \"everyday\", \"everyone\", \"everything\", \"everything\", \"excite\", \"fail\", \"feeling\", \"feeling\", \"friend\", \"friend\", \"fucking\", \"getting\", \"give\", \"group\", \"happily\", \"happy\", \"happy\", \"hardly\", \"help\", \"honest\", \"important\", \"important\", \"inner\", \"interest\", \"issue\", \"life\", \"lonely\", \"major\", \"make\", \"making\", \"making\", \"maoi\", \"married\", \"might\", \"miss\", \"mistake\", \"month\", \"need\", \"need\", \"night\", \"night\", \"nothing\", \"nothing\", \"openly\", \"perhaps\", \"please\", \"please\", \"poeple\", \"post\", \"pretending\", \"pretty\", \"problem\", \"problem\", \"quite\", \"really\", \"reddit\", \"reddit\", \"redis\", \"refractory\", \"remember\", \"remind\", \"school\", \"selegiline\", \"self\", \"severe\", \"somebody\", \"someone\", \"something\", \"sometimes\", \"sorry\", \"sound\", \"start\", \"starting\", \"stick\", \"stick\", \"story\", \"stranger\", \"stress\", \"suck\", \"system\", \"taking\", \"taking\", \"things\", \"think\", \"thinking\", \"thought\", \"thought\", \"tire\", \"today\", \"tomorrow\", \"transdermal\", \"want\", \"worse\", \"worse\", \"worse\", \"would\", \"write\"]}, \"R\": 30, \"lambda.step\": 0.01, \"plot.opts\": {\"xlab\": \"PC1\", \"ylab\": \"PC2\"}, \"topic.order\": [1, 2, 3]};\n",
       "\n",
       "function LDAvis_load_lib(url, callback){\n",
       "  var s = document.createElement('script');\n",
       "  s.src = url;\n",
       "  s.async = true;\n",
       "  s.onreadystatechange = s.onload = callback;\n",
       "  s.onerror = function(){console.warn(\"failed to load library \" + url);};\n",
       "  document.getElementsByTagName(\"head\")[0].appendChild(s);\n",
       "}\n",
       "\n",
       "if(typeof(LDAvis) !== \"undefined\"){\n",
       "   // already loaded: just create the visualization\n",
       "   !function(LDAvis){\n",
       "       new LDAvis(\"#\" + \"ldavis_el3790112271019128973768912\", ldavis_el3790112271019128973768912_data);\n",
       "   }(LDAvis);\n",
       "}else if(typeof define === \"function\" && define.amd){\n",
       "   // require.js is available: use it to load d3/LDAvis\n",
       "   require.config({paths: {d3: \"https://cdnjs.cloudflare.com/ajax/libs/d3/3.5.5/d3.min\"}});\n",
       "   require([\"d3\"], function(d3){\n",
       "      window.d3 = d3;\n",
       "      LDAvis_load_lib(\"https://cdn.rawgit.com/bmabey/pyLDAvis/files/ldavis.v1.0.0.js\", function(){\n",
       "        new LDAvis(\"#\" + \"ldavis_el3790112271019128973768912\", ldavis_el3790112271019128973768912_data);\n",
       "      });\n",
       "    });\n",
       "}else{\n",
       "    // require.js not available: dynamically load d3 & LDAvis\n",
       "    LDAvis_load_lib(\"https://cdnjs.cloudflare.com/ajax/libs/d3/3.5.5/d3.min.js\", function(){\n",
       "         LDAvis_load_lib(\"https://cdn.rawgit.com/bmabey/pyLDAvis/files/ldavis.v1.0.0.js\", function(){\n",
       "                 new LDAvis(\"#\" + \"ldavis_el3790112271019128973768912\", ldavis_el3790112271019128973768912_data);\n",
       "            })\n",
       "         });\n",
       "}\n",
       "</script>"
      ],
      "text/plain": [
       "<IPython.core.display.HTML object>"
      ]
     },
     "execution_count": 21,
     "metadata": {},
     "output_type": "execute_result"
    }
   ],
   "source": [
    "lda3 = gensim.models.ldamodel.LdaModel.load('model3.gensim')\n",
    "lda_display3 = pyLDAvis.gensim.prepare(lda3, corpus, dictionary, sort_topics=False)\n",
    "pyLDAvis.display(lda_display3)"
   ]
  },
  {
   "cell_type": "code",
   "execution_count": 22,
   "metadata": {},
   "outputs": [
    {
     "name": "stderr",
     "output_type": "stream",
     "text": [
      "/anaconda3/lib/python3.7/site-packages/pyLDAvis/_prepare.py:257: FutureWarning: Sorting because non-concatenation axis is not aligned. A future version\n",
      "of pandas will change to not sort by default.\n",
      "\n",
      "To accept the future behavior, pass 'sort=False'.\n",
      "\n",
      "To retain the current behavior and silence the warning, pass 'sort=True'.\n",
      "\n",
      "  return pd.concat([default_term_info] + list(topic_dfs))\n"
     ]
    },
    {
     "data": {
      "text/html": [
       "\n",
       "<link rel=\"stylesheet\" type=\"text/css\" href=\"https://cdn.rawgit.com/bmabey/pyLDAvis/files/ldavis.v1.0.0.css\">\n",
       "\n",
       "\n",
       "<div id=\"ldavis_el37901122721795122719194260\"></div>\n",
       "<script type=\"text/javascript\">\n",
       "\n",
       "var ldavis_el37901122721795122719194260_data = {\"mdsDat\": {\"x\": [0.0390869771447416, -0.1215552439878918, 0.050947988237305904, -0.1433714083547068, -0.018023196345348786, 0.09865159336874481, -0.057321932705262604, 0.06983216283303262, 0.08173898460900703, 1.4075200377969837e-05], \"y\": [-0.05076742124782922, -0.0758249458178843, -0.05906476932006278, 0.03764667514415493, -0.06751534578760697, -0.041540704323283245, 0.06900325372145286, 0.14508856561402989, -0.02596180008475228, 0.06893649210178092], \"topics\": [1, 2, 3, 4, 5, 6, 7, 8, 9, 10], \"cluster\": [1, 1, 1, 1, 1, 1, 1, 1, 1, 1], \"Freq\": [6.818109035491943, 9.41390609741211, 7.184804916381836, 16.459754943847656, 10.467507362365723, 8.270788192749023, 10.332989692687988, 11.831339836120605, 9.22001838684082, 10.000779151916504]}, \"tinfo\": {\"Category\": [\"Default\", \"Default\", \"Default\", \"Default\", \"Default\", \"Default\", \"Default\", \"Default\", \"Default\", \"Default\", \"Default\", \"Default\", \"Default\", \"Default\", \"Default\", \"Default\", \"Default\", \"Default\", \"Default\", \"Default\", \"Default\", \"Default\", \"Default\", \"Default\", \"Default\", \"Default\", \"Default\", \"Default\", \"Default\", \"Default\", \"Topic1\", \"Topic1\", \"Topic1\", \"Topic1\", \"Topic1\", \"Topic1\", \"Topic1\", \"Topic1\", \"Topic1\", \"Topic1\", \"Topic1\", \"Topic1\", \"Topic1\", \"Topic1\", \"Topic1\", \"Topic1\", \"Topic1\", \"Topic1\", \"Topic1\", \"Topic1\", \"Topic1\", \"Topic1\", \"Topic1\", \"Topic1\", \"Topic1\", \"Topic1\", \"Topic1\", \"Topic1\", \"Topic1\", \"Topic1\", \"Topic1\", \"Topic1\", \"Topic1\", \"Topic1\", \"Topic1\", \"Topic1\", \"Topic1\", \"Topic1\", \"Topic1\", \"Topic1\", \"Topic2\", \"Topic2\", \"Topic2\", \"Topic2\", \"Topic2\", \"Topic2\", \"Topic2\", \"Topic2\", \"Topic2\", \"Topic2\", \"Topic2\", \"Topic2\", \"Topic2\", \"Topic2\", \"Topic2\", \"Topic2\", \"Topic2\", \"Topic2\", \"Topic2\", \"Topic2\", \"Topic2\", \"Topic2\", \"Topic2\", \"Topic2\", \"Topic2\", \"Topic2\", \"Topic2\", \"Topic2\", \"Topic2\", \"Topic2\", \"Topic2\", \"Topic2\", \"Topic2\", \"Topic2\", \"Topic2\", \"Topic2\", \"Topic2\", \"Topic2\", \"Topic2\", \"Topic2\", \"Topic2\", \"Topic2\", \"Topic2\", \"Topic2\", \"Topic2\", \"Topic2\", \"Topic2\", \"Topic2\", \"Topic3\", \"Topic3\", \"Topic3\", \"Topic3\", \"Topic3\", \"Topic3\", \"Topic3\", \"Topic3\", \"Topic3\", \"Topic3\", \"Topic3\", \"Topic3\", \"Topic3\", \"Topic3\", \"Topic3\", \"Topic3\", \"Topic3\", \"Topic3\", \"Topic3\", \"Topic3\", \"Topic3\", \"Topic3\", \"Topic3\", \"Topic3\", \"Topic3\", \"Topic3\", \"Topic3\", \"Topic3\", \"Topic3\", \"Topic3\", \"Topic3\", \"Topic3\", \"Topic3\", \"Topic3\", \"Topic3\", \"Topic3\", \"Topic3\", \"Topic3\", \"Topic3\", \"Topic3\", \"Topic3\", \"Topic3\", \"Topic3\", \"Topic3\", \"Topic3\", \"Topic3\", \"Topic3\", \"Topic3\", \"Topic4\", \"Topic4\", \"Topic4\", \"Topic4\", \"Topic4\", \"Topic4\", \"Topic4\", \"Topic4\", \"Topic4\", \"Topic4\", \"Topic4\", \"Topic4\", \"Topic4\", \"Topic4\", \"Topic4\", \"Topic4\", \"Topic4\", \"Topic4\", \"Topic4\", \"Topic4\", \"Topic4\", \"Topic4\", \"Topic4\", \"Topic4\", \"Topic4\", \"Topic4\", \"Topic4\", \"Topic4\", \"Topic4\", \"Topic4\", \"Topic4\", \"Topic4\", \"Topic4\", \"Topic4\", \"Topic4\", \"Topic5\", \"Topic5\", \"Topic5\", \"Topic5\", \"Topic5\", \"Topic5\", \"Topic5\", \"Topic5\", \"Topic5\", \"Topic5\", \"Topic5\", \"Topic5\", \"Topic5\", \"Topic5\", \"Topic5\", \"Topic5\", \"Topic5\", \"Topic5\", \"Topic5\", \"Topic5\", \"Topic5\", \"Topic5\", \"Topic5\", \"Topic5\", \"Topic5\", \"Topic5\", \"Topic5\", \"Topic5\", \"Topic5\", \"Topic5\", \"Topic5\", \"Topic5\", \"Topic5\", \"Topic5\", \"Topic5\", \"Topic6\", \"Topic6\", \"Topic6\", \"Topic6\", \"Topic6\", \"Topic6\", \"Topic6\", \"Topic6\", \"Topic6\", \"Topic6\", \"Topic6\", \"Topic6\", \"Topic6\", \"Topic6\", \"Topic6\", \"Topic6\", \"Topic6\", \"Topic6\", \"Topic6\", \"Topic6\", \"Topic6\", \"Topic6\", \"Topic6\", \"Topic6\", \"Topic6\", \"Topic6\", \"Topic6\", \"Topic6\", \"Topic6\", \"Topic6\", \"Topic6\", \"Topic6\", \"Topic6\", \"Topic6\", \"Topic6\", \"Topic6\", \"Topic6\", \"Topic6\", \"Topic6\", \"Topic7\", \"Topic7\", \"Topic7\", \"Topic7\", \"Topic7\", \"Topic7\", \"Topic7\", \"Topic7\", \"Topic7\", \"Topic7\", \"Topic7\", \"Topic7\", \"Topic7\", \"Topic7\", \"Topic7\", \"Topic7\", \"Topic7\", \"Topic7\", \"Topic7\", \"Topic7\", \"Topic7\", \"Topic7\", \"Topic7\", \"Topic7\", \"Topic7\", \"Topic7\", \"Topic7\", \"Topic7\", \"Topic7\", \"Topic7\", \"Topic7\", \"Topic7\", \"Topic8\", \"Topic8\", \"Topic8\", \"Topic8\", \"Topic8\", \"Topic8\", \"Topic8\", \"Topic8\", \"Topic8\", \"Topic8\", \"Topic8\", \"Topic8\", \"Topic8\", \"Topic8\", \"Topic8\", \"Topic8\", \"Topic8\", \"Topic8\", \"Topic8\", \"Topic8\", \"Topic8\", \"Topic8\", \"Topic8\", \"Topic8\", \"Topic8\", \"Topic8\", \"Topic8\", \"Topic8\", \"Topic8\", \"Topic8\", \"Topic8\", \"Topic8\", \"Topic8\", \"Topic8\", \"Topic8\", \"Topic8\", \"Topic9\", \"Topic9\", \"Topic9\", \"Topic9\", \"Topic9\", \"Topic9\", \"Topic9\", \"Topic9\", \"Topic9\", \"Topic9\", \"Topic9\", \"Topic9\", \"Topic9\", \"Topic9\", \"Topic9\", \"Topic9\", \"Topic9\", \"Topic9\", \"Topic9\", \"Topic9\", \"Topic9\", \"Topic9\", \"Topic9\", \"Topic9\", \"Topic9\", \"Topic9\", \"Topic9\", \"Topic9\", \"Topic9\", \"Topic9\", \"Topic10\", \"Topic10\", \"Topic10\", \"Topic10\", \"Topic10\", \"Topic10\", \"Topic10\", \"Topic10\", \"Topic10\", \"Topic10\", \"Topic10\", \"Topic10\", \"Topic10\", \"Topic10\", \"Topic10\", \"Topic10\", \"Topic10\", \"Topic10\", \"Topic10\", \"Topic10\", \"Topic10\", \"Topic10\", \"Topic10\", \"Topic10\", \"Topic10\", \"Topic10\", \"Topic10\", \"Topic10\", \"Topic10\", \"Topic10\"], \"Freq\": [11.0, 5.0, 9.0, 3.0, 2.0, 4.0, 2.0, 2.0, 2.0, 3.0, 4.0, 3.0, 3.0, 3.0, 2.0, 1.0, 1.0, 1.0, 1.0, 2.0, 1.0, 2.0, 1.0, 2.0, 2.0, 1.0, 1.0, 1.0, 1.0, 1.0, 1.1362196207046509, 1.135216236114502, 0.5951606631278992, 0.5951606631278992, 0.5951606631278992, 0.5951607823371887, 0.5951607823371887, 0.5951607823371887, 0.5951607823371887, 0.5951606035232544, 0.5951602458953857, 0.5951602458953857, 0.5951602458953857, 0.5951591730117798, 0.5951591730117798, 0.5951591730117798, 0.5951591730117798, 0.5951591730117798, 0.5951591730117798, 0.5951551198959351, 0.5951551198959351, 0.5951549410820007, 0.05410611629486084, 0.05410610884428024, 0.05410610884428024, 0.054106105118989944, 0.054106105118989944, 0.05410609766840935, 0.05410609766840935, 0.05410609766840935, 0.05410609766840935, 0.05450279265642166, 0.0544678159058094, 0.05446562543511391, 0.05445370078086853, 0.05443846061825752, 0.05474608764052391, 0.054506149142980576, 0.05444839224219322, 0.05444337800145149, 9.052196502685547, 0.6253371238708496, 0.6253371238708496, 0.6253371238708496, 0.6253370642662048, 0.6253370642662048, 0.6253371238708496, 0.6253371238708496, 0.6253357529640198, 0.625335693359375, 0.625335693359375, 0.625335693359375, 0.625335693359375, 0.6253355741500854, 0.6253301501274109, 0.6253301501274109, 0.6253306269645691, 0.6253414154052734, 0.6253417134284973, 0.6253353357315063, 0.625339150428772, 0.6253262162208557, 0.6253335475921631, 1.1938438415527344, 0.05684972554445267, 0.05684971064329147, 0.056849703192710876, 0.05684969574213028, 0.056849680840969086, 0.056849684566259384, 0.056849684566259384, 0.056849684566259384, 0.056849684566259384, 0.056849684566259384, 0.056849680840969086, 0.056849680840969086, 0.056849680840969086, 0.056849684566259384, 0.056849680840969086, 0.056849680840969086, 0.056849680840969086, 0.061839088797569275, 0.056849680840969086, 0.05790366232395172, 0.057903796434402466, 0.057903703302145004, 0.0568830780684948, 0.05687959864735603, 1.1517337560653687, 1.1507141590118408, 1.6984703540802002, 0.6032853126525879, 0.6032848954200745, 0.6032848358154297, 0.6032848954200745, 0.6032848358154297, 0.6032848358154297, 0.6032848358154297, 0.6032837629318237, 0.603283703327179, 1.700253963470459, 0.603288471698761, 0.6032682061195374, 0.603295087814331, 0.6032642126083374, 0.6033000349998474, 0.6032899022102356, 0.6032612323760986, 0.054844778031110764, 0.05484476685523987, 0.05484475940465927, 0.054844748228788376, 0.054844751954078674, 0.054844751954078674, 0.054844748228788376, 0.054844748228788376, 0.05484474077820778, 0.05484473705291748, 0.05484474077820778, 0.05484474077820778, 0.05484473705291748, 0.05484473705291748, 0.05484473705291748, 0.05484473705291748, 0.05484473705291748, 0.05484473332762718, 0.05586162582039833, 0.05586159974336624, 0.05620211362838745, 0.05484503135085106, 0.05484490096569061, 0.054844822734594345, 0.05484483391046524, 0.05484483018517494, 0.054844826459884644, 0.05484480783343315, 1.4318981170654297, 1.431893229484558, 6.200273513793945, 0.7500354051589966, 0.7500355839729309, 0.7500355839729309, 0.7500355839729309, 0.7500354051589966, 0.7500354051589966, 0.7500353455543518, 0.7500353455543518, 0.7500343918800354, 0.7500343918800354, 0.7500343918800354, 0.7500343918800354, 0.7500336766242981, 0.7500336766242981, 0.7500336766242981, 0.7500325441360474, 0.7500325441360474, 0.7500325441360474, 0.7500325441360474, 0.7500325441360474, 0.7500325441360474, 0.7500326037406921, 0.7500326037406921, 0.7500300407409668, 0.7500299215316772, 0.7500298619270325, 0.7500203847885132, 1.4319052696228027, 1.4318732023239136, 0.86350017786026, 0.750036358833313, 0.7500336170196533, 1.3446710109710693, 0.7043472528457642, 0.7043471336364746, 0.7043471336364746, 0.7043471336364746, 0.7043472528457642, 0.7043471336364746, 0.7043472528457642, 0.7043471336364746, 0.7043472528457642, 0.7043471336364746, 0.7043472528457642, 0.7043465375900269, 0.7043465375900269, 0.7043462991714478, 0.7043462991714478, 0.7043462991714478, 0.7043462991714478, 0.7043462991714478, 0.7043458819389343, 0.7043458223342896, 0.7043434977531433, 0.7043434977531433, 0.7043434977531433, 0.7043434381484985, 0.7043434381484985, 0.7043372988700867, 0.7043372392654419, 1.3434827327728271, 1.3390411138534546, 0.7043745517730713, 0.7043731212615967, 0.7043509483337402, 0.7043485045433044, 0.7043483257293701, 1.7492234706878662, 1.749220371246338, 1.7467377185821533, 1.1846134662628174, 0.6210598349571228, 0.621059775352478, 0.6210593581199646, 0.6210593581199646, 0.6210593581199646, 0.6210592985153198, 0.6210571527481079, 0.6210570931434631, 0.6210570335388184, 0.6210522055625916, 0.6210521459579468, 0.6210522055625916, 0.6210522055625916, 0.6210467219352722, 0.6210649013519287, 0.6210695505142212, 0.6210616230964661, 0.6210489869117737, 0.6210587620735168, 0.6210642457008362, 0.621020495891571, 0.09413338452577591, 0.05646064877510071, 0.05646064504981041, 0.05646064132452011, 0.056460630148649216, 0.05646062642335892, 0.05646062642335892, 0.05646062642335892, 0.05646061897277832, 0.05646061897277832, 0.1288224756717682, 0.06141558289527893, 0.05750742182135582, 0.05750754848122597, 1.2687911987304688, 1.2687911987304688, 1.2687873840332031, 0.664600670337677, 0.664600670337677, 0.664600670337677, 0.6645998954772949, 0.6645998954772949, 0.6645998358726501, 0.6645998358726501, 0.6645998358726501, 0.6645998358726501, 0.6645992398262024, 0.6645992398262024, 0.6645992994308472, 0.6645991206169128, 0.6645975112915039, 0.6645975112915039, 0.6645975112915039, 0.6645974516868591, 0.6645916104316711, 1.2688031196594238, 1.8710650205612183, 1.8729971647262573, 0.6646175384521484, 0.6645869016647339, 0.664587140083313, 0.6645929217338562, 0.6645950675010681, 1.2687902450561523, 1.2714484930038452, 0.6646056771278381, 1.9192391633987427, 1.9188613891601562, 0.6814218759536743, 0.6814217567443848, 0.6814218759536743, 0.6814218759536743, 0.6814218759536743, 0.6814211010932922, 0.6814211010932922, 0.6814211010932922, 0.6814211010932922, 0.6814209818840027, 0.6814202666282654, 0.681420087814331, 0.6814183592796326, 0.6814184188842773, 0.6814114451408386, 0.6814114451408386, 0.6814115047454834, 0.6814115047454834, 0.6814113855361938, 0.6813662052154541, 0.6810420155525208, 0.6810244917869568, 0.6810108423233032, 0.6810083389282227, 0.6809682250022888, 2.539163589477539, 1.300916075706482, 1.300875186920166, 1.3008387088775635, 0.6833854913711548, 0.6814215779304504, 0.6814197301864624, 0.6814123392105103, 0.6813904643058777, 1.8610169887542725, 0.6607543230056763, 0.6607543230056763, 0.6607543230056763, 0.6607543230056763, 0.6607543230056763, 0.6607543230056763, 0.660754382610321, 0.660754382610321, 0.660754382610321, 0.660754382610321, 0.660753607749939, 0.660753607749939, 0.6607535481452942, 0.6607535481452942, 0.6607525944709778, 0.6607525944709778, 0.6607525944709778, 0.6607511639595032, 0.6607511639595032, 0.6607511639595032, 0.6607511639595032, 0.6607511639595032, 0.6607458591461182, 0.6607457995414734, 1.261472225189209, 1.8610610961914062, 0.6607514023780823, 0.6607080698013306, 0.660778820514679, 5.261737823486328, 1.2315877676010132, 1.2264379262924194, 1.1924495697021484, 0.6451128721237183, 0.6451127529144287, 0.6451127529144287, 0.6451120972633362, 0.6451120972633362, 0.6451120972633362, 0.6451120972633362, 0.6451120972633362, 0.6451106071472168, 0.645110547542572, 0.6451106071472168, 0.6451104879379272, 0.6451046466827393, 0.6451027393341064, 0.6451026201248169, 0.6451026201248169, 0.6451240181922913, 0.6451066732406616, 0.6451060771942139, 0.6451115608215332, 0.6451097726821899, 0.6454224586486816, 0.6451126337051392, 0.6451064944267273, 0.645124614238739, 0.64509117603302], \"Term\": [\"depression\", \"anymore\", \"depress\", \"feeling\", \"really\", \"everything\", \"think\", \"suck\", \"school\", \"happy\", \"anyone\", \"someone\", \"everyone\", \"thought\", \"break\", \"fail\", \"tomorrow\", \"afraid\", \"thinking\", \"enough\", \"lonely\", \"reddit\", \"write\", \"alone\", \"stick\", \"another\", \"important\", \"making\", \"pretty\", \"quite\", \"fail\", \"tomorrow\", \"worthless\", \"purposeless\", \"fully\", \"convince\", \"excite\", \"getting\", \"pretending\", \"married\", \"little\", \"friendship\", \"apart\", \"person\", \"perfect\", \"scare\", \"failing\", \"follow\", \"college\", \"years\", \"oxymoron\", \"waste\", \"world\", \"bathroom\", \"anything\", \"worth\", \"passion\", \"subconsciously\", \"purpose\", \"impossible\", \"dying\", \"mistake\", \"make\", \"remind\", \"everyday\", \"annoying\", \"everything\", \"happy\", \"tire\", \"anyone\", \"depression\", \"looking\", \"people\", \"abusive\", \"severely\", \"love\", \"cheat\", \"goodbye\", \"counseling\", \"child\", \"clinical\", \"campaign\", \"psychotherapy\", \"bitch\", \"hard\", \"therapist\", \"problem\", \"found\", \"night\", \"worse\", \"story\", \"reddit\", \"taking\", \"depress\", \"waste\", \"oxymoron\", \"years\", \"follow\", \"person\", \"failing\", \"college\", \"perfect\", \"scare\", \"apart\", \"little\", \"purposeless\", \"convince\", \"friendship\", \"excite\", \"getting\", \"fully\", \"stick\", \"worthless\", \"suck\", \"alone\", \"happy\", \"progression\", \"realize\", \"afraid\", \"thinking\", \"really\", \"dying\", \"subconsciously\", \"worth\", \"impossible\", \"anything\", \"passion\", \"purpose\", \"world\", \"bathroom\", \"feeling\", \"problem\", \"starting\", \"death\", \"things\", \"suicide\", \"sorry\", \"anyone\", \"waste\", \"years\", \"oxymoron\", \"person\", \"failing\", \"follow\", \"college\", \"scare\", \"perfect\", \"little\", \"married\", \"apart\", \"convince\", \"friendship\", \"worthless\", \"fully\", \"pretending\", \"purposeless\", \"tomorrow\", \"everyone\", \"depress\", \"depression\", \"anymore\", \"everything\", \"friend\", \"please\", \"month\", \"happy\", \"right\", \"today\", \"depress\", \"would\", \"status\", \"never\", \"future\", \"constantly\", \"appeal\", \"financial\", \"stress\", \"consider\", \"mean\", \"frustrate\", \"thing\", \"wanna\", \"leave\", \"emotionless\", \"personal\", \"breaking\", \"professional\", \"dramatic\", \"evening\", \"overly\", \"inadequacy\", \"positive\", \"verge\", \"slump\", \"piece\", \"confession\", \"nothing\", \"tire\", \"depression\", \"stick\", \"thought\", \"write\", \"works\", \"though\", \"cripple\", \"start\", \"something\", \"openly\", \"honest\", \"hardly\", \"happily\", \"fighting\", \"embracing\", \"unedited\", \"figure\", \"skill\", \"social\", \"basic\", \"bring\", \"apparently\", \"sympathetic\", \"others\", \"going\", \"lower\", \"keep\", \"truly\", \"upset\", \"theory\", \"crushing\", \"alone\", \"stick\", \"anyone\", \"friend\", \"could\", \"someone\", \"better\", \"suck\", \"think\", \"school\", \"lonely\", \"reading\", \"thank\", \"remember\", \"give\", \"fucking\", \"redis\", \"childhood\", \"trauma\", \"empty\", \"nobody\", \"nervous\", \"loser\", \"pill\", \"withstand\", \"help\", \"want\", \"post\", \"worse\", \"really\", \"everyone\", \"feeling\", \"somebody\", \"waste\", \"years\", \"oxymoron\", \"follow\", \"perfect\", \"scare\", \"failing\", \"college\", \"person\", \"anymore\", \"quite\", \"thinking\", \"anyone\", \"making\", \"important\", \"pretty\", \"black\", \"miss\", \"white\", \"stranger\", \"inner\", \"contemplate\", \"bunch\", \"care\", \"self\", \"internship\", \"conversationalist\", \"account\", \"early\", \"desire\", \"update\", \"painful\", \"lose\", \"intro\", \"reddit\", \"thought\", \"someone\", \"things\", \"death\", \"want\", \"night\", \"could\", \"everything\", \"depress\", \"please\", \"break\", \"everyone\", \"zachary\", \"documentary\", \"comment\", \"letter\", \"father\", \"musing\", \"failure\", \"choice\", \"today;i\", \"dream\", \"hopelessly\", \"romantic\", \"amaze\", \"leaf\", \"great\", \"happen\", \"running\", \"wrong\", \"foward\", \"realize\", \"annoying\", \"everyday\", \"remind\", \"make\", \"mistake\", \"everything\", \"month\", \"please\", \"friend\", \"thought\", \"boyfriend\", \"post\", \"story\", \"enough\", \"happy\", \"selegiline\", \"major\", \"disorder\", \"depressive\", \"system\", \"transdermal\", \"critical\", \"interest\", \"appraisal\", \"perhaps\", \"embarrassment\", \"relationship\", \"parent\", \"point\", \"finding\", \"subreddits\", \"celexa\", \"generic\", \"terrible\", \"memory\", \"regret\", \"paxil\", \"slide\", \"human\", \"enough\", \"anyone\", \"taking\", \"feeling\", \"friend\", \"anymore\", \"another\", \"quite\", \"somebody\", \"seem\", \"bleak\", \"postgrad\", \"fallout\", \"argument\", \"fuck\", \"try\", \"writing\", \"belong\", \"regrets\", \"tears\", \"heart\", \"harsh\", \"refractory\", \"maoi\", \"severe\", \"starting\", \"help\", \"found\", \"boyfriend\", \"better\", \"need\", \"story\", \"nothing\", \"friend\", \"everything\"], \"Total\": [11.0, 5.0, 9.0, 3.0, 2.0, 4.0, 2.0, 2.0, 2.0, 3.0, 4.0, 3.0, 3.0, 3.0, 2.0, 1.0, 1.0, 1.0, 1.0, 2.0, 1.0, 2.0, 1.0, 2.0, 2.0, 1.0, 1.0, 1.0, 1.0, 1.0, 1.6776776313781738, 1.6776912212371826, 1.1366183757781982, 1.1366183757781982, 1.1366183757781982, 1.1366184949874878, 1.1366183757781982, 1.1366184949874878, 1.1366184949874878, 1.1366183757781982, 1.1366180181503296, 1.1366180181503296, 1.1366180181503296, 1.1366169452667236, 1.1366170644760132, 1.1366170644760132, 1.1366170644760132, 1.1366170644760132, 1.1366170644760132, 1.136613130569458, 1.136613130569458, 1.136613130569458, 1.1440030336380005, 1.1440030336380005, 1.144003987312317, 1.144003987312317, 1.144003987312317, 1.144003987312317, 1.144003987312317, 1.1440041065216064, 1.144004464149475, 1.2149803638458252, 1.2149853706359863, 1.2149858474731445, 1.2149875164031982, 1.2149899005889893, 4.868234157562256, 3.0169873237609863, 2.5786924362182617, 4.8875861167907715, 11.032785415649414, 1.1640512943267822, 1.1640512943267822, 1.1640512943267822, 1.1640512943267822, 1.1640512943267822, 1.1640514135360718, 1.1640514135360718, 1.1640499830245972, 1.1640499830245972, 1.1640499830245972, 1.1640499830245972, 1.1640499830245972, 1.1640499830245972, 1.1640446186065674, 1.1640446186065674, 1.7124887704849243, 1.7505143880844116, 1.7682299613952637, 2.3480818271636963, 2.3699827194213867, 2.372424602508545, 2.446547269821167, 9.66346263885498, 1.136613130569458, 1.136613130569458, 1.136613130569458, 1.1366170644760132, 1.1366169452667236, 1.1366170644760132, 1.1366170644760132, 1.1366170644760132, 1.1366170644760132, 1.1366180181503296, 1.1366180181503296, 1.1366183757781982, 1.1366184949874878, 1.1366180181503296, 1.1366183757781982, 1.1366184949874878, 1.1366183757781982, 2.55741286277771, 1.1366183757781982, 2.2893810272216797, 2.557912588119507, 3.0169873237609863, 1.2773765325546265, 1.2150118350982666, 1.6924530267715454, 1.692480444908142, 2.805910348892212, 1.144004464149475, 1.144003987312317, 1.144003987312317, 1.1440041065216064, 1.144003987312317, 1.144003987312317, 1.144003987312317, 1.1440030336380005, 1.1440030336380005, 3.406172752380371, 1.7124887704849243, 1.730464220046997, 1.7481822967529297, 1.7481821775436401, 1.8258440494537354, 1.825847864151001, 4.8875861167907715, 1.136613130569458, 1.136613130569458, 1.136613130569458, 1.1366169452667236, 1.1366170644760132, 1.1366170644760132, 1.1366170644760132, 1.1366170644760132, 1.1366170644760132, 1.1366180181503296, 1.1366183757781982, 1.1366180181503296, 1.1366184949874878, 1.1366180181503296, 1.1366183757781982, 1.1366183757781982, 1.1366184949874878, 1.1366183757781982, 1.6776912212371826, 3.018423318862915, 9.66346263885498, 11.032785415649414, 5.871017932891846, 4.868234157562256, 4.343825817108154, 3.120506525039673, 2.5163564682006836, 3.0169873237609863, 1.9592758417129517, 1.9592713117599487, 9.66346263885498, 1.2774128913879395, 1.2774131298065186, 1.2774131298065186, 1.2774131298065186, 1.2774128913879395, 1.2774128913879395, 1.2774128913879395, 1.2774128913879395, 1.277411937713623, 1.277411937713623, 1.277411937713623, 1.2774120569229126, 1.2774113416671753, 1.2774113416671753, 1.2774113416671753, 1.2774101495742798, 1.2774101495742798, 1.2774101495742798, 1.2774101495742798, 1.2774101495742798, 1.2774101495742798, 1.2774102687835693, 1.2774102687835693, 1.2774077653884888, 1.2774077653884888, 1.2774077653884888, 1.2773983478546143, 2.5457420349121094, 2.5786924362182617, 11.032785415649414, 2.55741286277771, 3.7094948291778564, 1.8762027025222778, 1.235878586769104, 1.2358784675598145, 1.2358787059783936, 1.2358787059783936, 1.2358787059783936, 1.2358787059783936, 1.2358787059783936, 1.2358787059783936, 1.2358787059783936, 1.2358787059783936, 1.2358787059783936, 1.2358779907226562, 1.2358779907226562, 1.2358777523040771, 1.2358777523040771, 1.2358778715133667, 1.2358778715133667, 1.2358778715133667, 1.235877513885498, 1.2358773946762085, 1.235875129699707, 1.235875129699707, 1.2358752489089966, 1.2358752489089966, 1.2358752489089966, 1.2358691692352295, 1.2358691692352295, 2.557912588119507, 2.55741286277771, 4.8875861167907715, 4.343825817108154, 1.84005868434906, 3.730285406112671, 1.8223423957824707, 2.2893810272216797, 2.2895901203155518, 2.2896461486816406, 1.7248375415802002, 1.1601629257202148, 1.1601629257202148, 1.1601624488830566, 1.1601624488830566, 1.1601624488830566, 1.1601625680923462, 1.1601604223251343, 1.1601604223251343, 1.1601604223251343, 1.1601557731628418, 1.1601557731628418, 1.1601557731628418, 1.1601557731628418, 1.1601577997207642, 1.7466274499893188, 1.7643409967422485, 1.7796361446380615, 2.3480818271636963, 2.805910348892212, 3.018423318862915, 3.406172752380371, 1.7670390605926514, 1.136613130569458, 1.136613130569458, 1.136613130569458, 1.1366170644760132, 1.1366170644760132, 1.1366170644760132, 1.1366170644760132, 1.1366170644760132, 1.1366169452667236, 5.871017932891846, 1.7683095932006836, 1.692480444908142, 4.8875861167907715, 1.803936243057251, 1.803936243057251, 1.8039326667785645, 1.1997454166412354, 1.1997454166412354, 1.1997454166412354, 1.199744701385498, 1.199744701385498, 1.199744701385498, 1.199744701385498, 1.199744701385498, 1.199744701385498, 1.1997441053390503, 1.1997441053390503, 1.1997441053390503, 1.1997441053390503, 1.1997424364089966, 1.1997424364089966, 1.1997424364089966, 1.1997424364089966, 1.1997368335723877, 2.372424602508545, 3.7094948291778564, 3.730285406112671, 1.7481821775436401, 1.7481822967529297, 1.7643409967422485, 1.7682299613952637, 1.84005868434906, 4.868234157562256, 9.66346263885498, 3.120506525039673, 2.453975200653076, 3.018423318862915, 1.2150373458862305, 1.215037226676941, 1.2150373458862305, 1.2150373458862305, 1.2150373458862305, 1.2150366306304932, 1.2150366306304932, 1.2150366306304932, 1.2150366306304932, 1.2150365114212036, 1.2150357961654663, 1.2150356769561768, 1.215034008026123, 1.2150341272354126, 1.2150272130966187, 1.2150272130966187, 1.2150273323059082, 1.2150273323059082, 1.2150272130966187, 1.2150118350982666, 1.2149899005889893, 1.2149875164031982, 1.2149858474731445, 1.2149853706359863, 1.2149803638458252, 4.868234157562256, 2.5163564682006836, 3.120506525039673, 4.343825817108154, 3.7094948291778564, 1.8015012741088867, 1.7796361446380615, 2.3699827194213867, 2.4164092540740967, 3.0169873237609863, 1.1962487697601318, 1.1962487697601318, 1.1962487697601318, 1.1962487697601318, 1.1962487697601318, 1.1962487697601318, 1.196249008178711, 1.196249008178711, 1.196249008178711, 1.196249008178711, 1.1962480545043945, 1.1962480545043945, 1.196248173713684, 1.196248173713684, 1.1962472200393677, 1.1962472200393677, 1.1962472200393677, 1.1962459087371826, 1.1962459087371826, 1.1962459087371826, 1.1962459087371826, 1.1962459087371826, 1.1962406635284424, 1.1962406635284424, 2.4164092540740967, 4.8875861167907715, 2.446547269821167, 3.406172752380371, 4.343825817108154, 5.871017932891846, 1.76850426197052, 1.7683095932006836, 1.7670390605926514, 1.1820292472839355, 1.182029128074646, 1.182029128074646, 1.1820285320281982, 1.1820285320281982, 1.1820285320281982, 1.1820285320281982, 1.1820285320281982, 1.1820271015167236, 1.1820271015167236, 1.1820271015167236, 1.1820271015167236, 1.1820213794708252, 1.182025671005249, 1.1820255517959595, 1.1820255517959595, 1.730464220046997, 1.7466274499893188, 1.7505143880844116, 1.8015012741088867, 1.8223423957824707, 1.863826036453247, 2.3699827194213867, 2.5457420349121094, 4.343825817108154, 4.868234157562256], \"loglift\": [30.0, 29.0, 28.0, 27.0, 26.0, 25.0, 24.0, 23.0, 22.0, 21.0, 20.0, 19.0, 18.0, 17.0, 16.0, 15.0, 14.0, 13.0, 12.0, 11.0, 10.0, 9.0, 8.0, 7.0, 6.0, 5.0, 4.0, 3.0, 2.0, 1.0, 2.2959001064300537, 2.2950000762939453, 2.038599967956543, 2.038599967956543, 2.038599967956543, 2.038599967956543, 2.038599967956543, 2.038599967956543, 2.038599967956543, 2.038599967956543, 2.038599967956543, 2.038599967956543, 2.038599967956543, 2.038599967956543, 2.038599967956543, 2.038599967956543, 2.038599967956543, 2.038599967956543, 2.038599967956543, 2.038599967956543, 2.038599967956543, 2.038599967956543, -0.36579999327659607, -0.36579999327659607, -0.36579999327659607, -0.36579999327659607, -0.36579999327659607, -0.36579999327659607, -0.36579999327659607, -0.36579999327659607, -0.36579999327659607, -0.4185999929904938, -0.41929998993873596, -0.41929998993873596, -0.4196000099182129, -0.4198000133037567, -1.8021999597549438, -1.3280999660491943, -1.1721999645233154, -1.8116999864578247, 2.16510009765625, 1.7416000366210938, 1.7416000366210938, 1.7416000366210938, 1.7416000366210938, 1.7416000366210938, 1.7416000366210938, 1.7416000366210938, 1.7416000366210938, 1.7416000366210938, 1.7416000366210938, 1.7416000366210938, 1.7416000366210938, 1.7416000366210938, 1.7416000366210938, 1.7416000366210938, 1.3555999994277954, 1.3336000442504883, 1.3235000371932983, 1.0398999452590942, 1.0305999517440796, 1.0296000242233276, 0.9987999796867371, 0.2718000113964081, -0.6323999762535095, -0.6323999762535095, -0.6323999762535095, -0.6323999762535095, -0.6323999762535095, -0.6323999762535095, -0.6323999762535095, -0.6323999762535095, -0.6323999762535095, -0.6323999762535095, -0.6323999762535095, -0.6323999762535095, -0.6323999762535095, -0.6323999762535095, -0.6323999762535095, -0.6323999762535095, -0.6323999762535095, -1.3592000007629395, -0.6323999762535095, -1.3142999410629272, -1.4251999855041504, -1.5902999639511108, -0.7486000061035156, -0.6985999941825867, 2.248300075531006, 2.2474000453948975, 2.131200075149536, 1.993299961090088, 1.993299961090088, 1.993299961090088, 1.993299961090088, 1.993299961090088, 1.993299961090088, 1.993299961090088, 1.993299961090088, 1.993299961090088, 1.9384000301361084, 1.589900016784668, 1.5793999433517456, 1.5693000555038452, 1.569200038909912, 1.5257999897003174, 1.5257999897003174, 0.541100025177002, -0.39809998869895935, -0.39809998869895935, -0.39809998869895935, -0.39809998869895935, -0.39809998869895935, -0.39809998869895935, -0.39809998869895935, -0.39809998869895935, -0.39809998869895935, -0.39809998869895935, -0.39809998869895935, -0.39809998869895935, -0.39809998869895935, -0.39809998869895935, -0.39809998869895935, -0.39809998869895935, -0.39809998869895935, -0.39809998869895935, -0.76910001039505, -1.3564000129699707, -2.5139999389648438, -2.6709001064300537, -2.04010009765625, -1.8528000116348267, -1.738800048828125, -1.4079999923706055, -1.1928999423980713, -1.3743000030517578, 1.4907000064849854, 1.4907000064849854, 1.3604999780654907, 1.2718000411987305, 1.2718000411987305, 1.2718000411987305, 1.2718000411987305, 1.2718000411987305, 1.2718000411987305, 1.2718000411987305, 1.2718000411987305, 1.2718000411987305, 1.2718000411987305, 1.2718000411987305, 1.2718000411987305, 1.2718000411987305, 1.2718000411987305, 1.2718000411987305, 1.2718000411987305, 1.2718000411987305, 1.2718000411987305, 1.2718000411987305, 1.2718000411987305, 1.2718000411987305, 1.2718000411987305, 1.2718000411987305, 1.2718000411987305, 1.2718000411987305, 1.2718000411987305, 1.2718000411987305, 1.2288000583648682, 1.215999960899353, -0.743399977684021, 0.5776000022888184, 0.20569999516010284, 1.923799991607666, 1.694599986076355, 1.694599986076355, 1.694599986076355, 1.694599986076355, 1.694599986076355, 1.694599986076355, 1.694599986076355, 1.694599986076355, 1.694599986076355, 1.694599986076355, 1.694599986076355, 1.694599986076355, 1.694599986076355, 1.694599986076355, 1.694599986076355, 1.694599986076355, 1.694599986076355, 1.694599986076355, 1.694599986076355, 1.694599986076355, 1.694599986076355, 1.694599986076355, 1.694599986076355, 1.694599986076355, 1.694599986076355, 1.694599986076355, 1.694599986076355, 1.6130000352859497, 1.6098999977111816, 0.3197999894618988, 0.4377000033855438, 1.2965999841690063, 0.589900016784668, 1.3063000440597534, 2.223299980163574, 2.2232000827789307, 2.2218000888824463, 2.1166999340057373, 1.8675999641418457, 1.8675999641418457, 1.8675999641418457, 1.8675999641418457, 1.8675999641418457, 1.8675999641418457, 1.8675999641418457, 1.8674999475479126, 1.8674999475479126, 1.8674999475479126, 1.8674999475479126, 1.8674999475479126, 1.8674999475479126, 1.8674999475479126, 1.458400011062622, 1.4484000205993652, 1.4397000074386597, 1.162500023841858, 0.9843999743461609, 0.9114000201225281, 0.7904999852180481, -0.4399000108242035, -0.5098000168800354, -0.5098000168800354, -0.5098000168800354, -0.5098000168800354, -0.5098000168800354, -0.5098000168800354, -0.5098000168800354, -0.5098000168800354, -0.5098000168800354, -1.3269000053405762, -0.8676999807357788, -0.8895999789237976, -1.9500999450683594, 1.9178999662399292, 1.9178999662399292, 1.9178999662399292, 1.6792000532150269, 1.6792000532150269, 1.6792000532150269, 1.6791000366210938, 1.6791000366210938, 1.6791000366210938, 1.6791000366210938, 1.6791000366210938, 1.6791000366210938, 1.6791000366210938, 1.6791000366210938, 1.6791000366210938, 1.6791000366210938, 1.6791000366210938, 1.6791000366210938, 1.6791000366210938, 1.6791000366210938, 1.6791000366210938, 1.6440000534057617, 1.5853999853134155, 1.580899953842163, 1.3027000427246094, 1.3027000427246094, 1.2934999465942383, 1.2913000583648682, 1.2515000104904175, 0.9251999855041504, 0.24160000681877136, 0.7232999801635742, 1.8885999917984009, 1.681399941444397, 1.5561000108718872, 1.5561000108718872, 1.5561000108718872, 1.5561000108718872, 1.5561000108718872, 1.5561000108718872, 1.5561000108718872, 1.5561000108718872, 1.5561000108718872, 1.5561000108718872, 1.5561000108718872, 1.5561000108718872, 1.5561000108718872, 1.5561000108718872, 1.5561000108718872, 1.5561000108718872, 1.5561000108718872, 1.5561000108718872, 1.5561000108718872, 1.555999994277954, 1.5556000471115112, 1.5555000305175781, 1.5555000305175781, 1.5555000305175781, 1.5555000305175781, 1.4835000038146973, 1.4746999740600586, 1.2595000267028809, 0.9286999702453613, 0.44279998540878296, 1.1621999740600586, 1.174399971961975, 0.8878999948501587, 0.8684999942779541, 1.9006999731063843, 1.7901999950408936, 1.7901999950408936, 1.7901999950408936, 1.7901999950408936, 1.7901999950408936, 1.7901999950408936, 1.7901999950408936, 1.7901999950408936, 1.7901999950408936, 1.7901999950408936, 1.7901999950408936, 1.7901999950408936, 1.7901999950408936, 1.7901999950408936, 1.7901999950408936, 1.7901999950408936, 1.7901999950408936, 1.7901999950408936, 1.7901999950408936, 1.7901999950408936, 1.7901999950408936, 1.7901999950408936, 1.7901999950408936, 1.7901999950408936, 1.7338000535964966, 1.4182000160217285, 1.0746999979019165, 0.7437999844551086, 0.5006999969482422, 2.1928999423980713, 1.9407000541687012, 1.9365999698638916, 1.9091999530792236, 1.6969000101089478, 1.6969000101089478, 1.6969000101089478, 1.6969000101089478, 1.6969000101089478, 1.6969000101089478, 1.6969000101089478, 1.6969000101089478, 1.6969000101089478, 1.6969000101089478, 1.6969000101089478, 1.6969000101089478, 1.6969000101089478, 1.6969000101089478, 1.6969000101089478, 1.6969000101089478, 1.3157999515533447, 1.30649995803833, 1.3042999505996704, 1.2755999565124512, 1.2640000581741333, 1.2419999837875366, 1.0012999773025513, 0.9297000169754028, 0.3953999876976013, 0.28139999508857727], \"logprob\": [30.0, 29.0, 28.0, 27.0, 26.0, 25.0, 24.0, 23.0, 22.0, 21.0, 20.0, 19.0, 18.0, 17.0, 16.0, 15.0, 14.0, 13.0, 12.0, 11.0, 10.0, 9.0, 8.0, 7.0, 6.0, 5.0, 4.0, 3.0, 2.0, 1.0, -3.1782000064849854, -3.1791000366210938, -3.8248000144958496, -3.8248000144958496, -3.8248000144958496, -3.8248000144958496, -3.8248000144958496, -3.8248000144958496, -3.8248000144958496, -3.8248000144958496, -3.8248000144958496, -3.8248000144958496, -3.8248000144958496, -3.8248000144958496, -3.8248000144958496, -3.8248000144958496, -3.8248000144958496, -3.8248000144958496, -3.8248000144958496, -3.8248000144958496, -3.8248000144958496, -3.8248000144958496, -6.222700119018555, -6.222700119018555, -6.222700119018555, -6.222700119018555, -6.222700119018555, -6.222700119018555, -6.222700119018555, -6.222700119018555, -6.222700119018555, -6.215400218963623, -6.216000080108643, -6.216100215911865, -6.216300010681152, -6.216599941253662, -6.210899829864502, -6.2153000831604, -6.216400146484375, -6.2164998054504395, -1.4255000352859497, -4.097899913787842, -4.097899913787842, -4.097899913787842, -4.097899913787842, -4.097899913787842, -4.097899913787842, -4.097899913787842, -4.097899913787842, -4.097899913787842, -4.097899913787842, -4.097899913787842, -4.097899913787842, -4.097899913787842, -4.0980000495910645, -4.0980000495910645, -4.0980000495910645, -4.097899913787842, -4.097899913787842, -4.097899913787842, -4.097899913787842, -4.0980000495910645, -4.0980000495910645, -3.4512999057769775, -6.495800018310547, -6.495800018310547, -6.495800018310547, -6.495800018310547, -6.495800018310547, -6.495800018310547, -6.495800018310547, -6.495800018310547, -6.495800018310547, -6.495800018310547, -6.495800018310547, -6.495800018310547, -6.495800018310547, -6.495800018310547, -6.495800018310547, -6.495800018310547, -6.495800018310547, -6.4116997718811035, -6.495800018310547, -6.477499961853027, -6.477499961853027, -6.477499961853027, -6.495200157165527, -6.495299816131592, -3.2170000076293945, -3.217900037765503, -2.8285000324249268, -3.863600015640259, -3.863600015640259, -3.863600015640259, -3.863600015640259, -3.863600015640259, -3.863600015640259, -3.863600015640259, -3.863600015640259, -3.863600015640259, -2.827500104904175, -3.863600015640259, -3.8636999130249023, -3.863600015640259, -3.8636999130249023, -3.863600015640259, -3.863600015640259, -3.8636999130249023, -6.261499881744385, -6.261499881744385, -6.261499881744385, -6.261499881744385, -6.261499881744385, -6.261499881744385, -6.261499881744385, -6.261499881744385, -6.261499881744385, -6.261499881744385, -6.261499881744385, -6.261499881744385, -6.261499881744385, -6.261499881744385, -6.261499881744385, -6.261499881744385, -6.261499881744385, -6.261499881744385, -6.243100166320801, -6.243100166320801, -6.237100124359131, -6.261499881744385, -6.261499881744385, -6.261499881744385, -6.261499881744385, -6.261499881744385, -6.261499881744385, -6.261499881744385, -3.828200101852417, -3.828200101852417, -2.362600088119507, -4.474800109863281, -4.474800109863281, -4.474800109863281, -4.474800109863281, -4.474800109863281, -4.474800109863281, -4.474800109863281, -4.474800109863281, -4.474800109863281, -4.474800109863281, -4.474800109863281, -4.474800109863281, -4.474800109863281, -4.474800109863281, -4.474800109863281, -4.474899768829346, -4.474899768829346, -4.474899768829346, -4.474899768829346, -4.474899768829346, -4.474899768829346, -4.474899768829346, -4.474899768829346, -4.474899768829346, -4.474899768829346, -4.474899768829346, -4.474899768829346, -3.828200101852417, -3.828200101852417, -4.334000110626221, -4.474800109863281, -4.474800109863281, -3.4384000301361084, -4.085100173950195, -4.085100173950195, -4.085100173950195, -4.085100173950195, -4.085100173950195, -4.085100173950195, -4.085100173950195, -4.085100173950195, -4.085100173950195, -4.085100173950195, -4.085100173950195, -4.085100173950195, -4.085100173950195, -4.085100173950195, -4.085100173950195, -4.085100173950195, -4.085100173950195, -4.085100173950195, -4.085100173950195, -4.085100173950195, -4.085100173950195, -4.085100173950195, -4.085100173950195, -4.085100173950195, -4.085100173950195, -4.085100173950195, -4.085100173950195, -3.439300060272217, -3.4426000118255615, -4.085000038146973, -4.085000038146973, -4.085000038146973, -4.085100173950195, -4.085100173950195, -2.9398999214172363, -2.9398999214172363, -2.9412999153137207, -3.3296000957489014, -3.975399971008301, -3.975399971008301, -3.975399971008301, -3.975399971008301, -3.975399971008301, -3.975399971008301, -3.975399971008301, -3.975399971008301, -3.975399971008301, -3.975399971008301, -3.975399971008301, -3.975399971008301, -3.975399971008301, -3.975399971008301, -3.9753000736236572, -3.9753000736236572, -3.9753000736236572, -3.975399971008301, -3.975399971008301, -3.9753000736236572, -3.975399971008301, -5.862100124359131, -6.373199939727783, -6.373199939727783, -6.373199939727783, -6.373199939727783, -6.373199939727783, -6.373199939727783, -6.373199939727783, -6.373199939727783, -6.373199939727783, -5.548299789428711, -6.289100170135498, -6.354899883270264, -6.354899883270264, -3.483599901199341, -3.483599901199341, -3.483599901199341, -4.130199909210205, -4.130199909210205, -4.130199909210205, -4.130199909210205, -4.130199909210205, -4.130199909210205, -4.130199909210205, -4.130199909210205, -4.130199909210205, -4.130199909210205, -4.130199909210205, -4.130199909210205, -4.130199909210205, -4.130199909210205, -4.130199909210205, -4.130199909210205, -4.130199909210205, -4.130199909210205, -3.483599901199341, -3.095099925994873, -3.094099998474121, -4.130199909210205, -4.130199909210205, -4.130199909210205, -4.130199909210205, -4.130199909210205, -3.483599901199341, -3.4814999103546143, -4.130199909210205, -3.2051000595092773, -3.2053000926971436, -4.240600109100342, -4.240600109100342, -4.240600109100342, -4.240600109100342, -4.240600109100342, -4.240600109100342, -4.240600109100342, -4.240600109100342, -4.240600109100342, -4.240600109100342, -4.240600109100342, -4.240600109100342, -4.240600109100342, -4.240600109100342, -4.240600109100342, -4.240600109100342, -4.240600109100342, -4.240600109100342, -4.240600109100342, -4.240699768066406, -4.241199970245361, -4.241199970245361, -4.241199970245361, -4.241199970245361, -4.241300106048584, -2.9251999855041504, -3.5940001010894775, -3.5940001010894775, -3.5940001010894775, -4.23769998550415, -4.240600109100342, -4.240600109100342, -4.240600109100342, -4.240699768066406, -2.9865000247955322, -4.021999835968018, -4.021999835968018, -4.021999835968018, -4.021999835968018, -4.021999835968018, -4.021999835968018, -4.021999835968018, -4.021999835968018, -4.021999835968018, -4.021999835968018, -4.021999835968018, -4.021999835968018, -4.021999835968018, -4.021999835968018, -4.021999835968018, -4.021999835968018, -4.021999835968018, -4.021999835968018, -4.021999835968018, -4.021999835968018, -4.021999835968018, -4.021999835968018, -4.02209997177124, -4.02209997177124, -3.3754000663757324, -2.9865000247955322, -4.021999835968018, -4.02209997177124, -4.021999835968018, -2.0285000801086426, -3.4807000160217285, -3.484800100326538, -3.5129001140594482, -4.127299785614014, -4.127299785614014, -4.127299785614014, -4.127299785614014, -4.127299785614014, -4.127299785614014, -4.127299785614014, -4.127299785614014, -4.127299785614014, -4.127299785614014, -4.127299785614014, -4.127299785614014, -4.127299785614014, -4.127299785614014, -4.127299785614014, -4.127299785614014, -4.127299785614014, -4.127299785614014, -4.127299785614014, -4.127299785614014, -4.127299785614014, -4.126800060272217, -4.127299785614014, -4.127299785614014, -4.127299785614014, -4.127299785614014]}, \"token.table\": {\"Topic\": [2, 7, 3, 4, 5, 8, 8, 10, 10, 3, 4, 5, 8, 9, 3, 1, 5, 4, 9, 10, 5, 3, 10, 5, 10, 2, 7, 10, 8, 10, 8, 4, 5, 7, 2, 7, 9, 2, 2, 6, 8, 2, 1, 8, 4, 4, 4, 7, 7, 1, 5, 7, 2, 5, 9, 5, 3, 7, 2, 4, 7, 10, 2, 4, 5, 9, 7, 9, 8, 4, 8, 3, 7, 9, 5, 4, 6, 8, 9, 4, 8, 6, 8, 7, 8, 10, 1, 1, 1, 8, 10, 8, 3, 6, 9, 5, 5, 4, 9, 1, 2, 10, 8, 4, 5, 8, 9, 10, 1, 4, 10, 6, 1, 4, 9, 1, 6, 5, 2, 8, 8, 5, 8, 9, 2, 5, 10, 10, 6, 10, 5, 8, 9, 7, 3, 4, 7, 9, 7, 7, 5, 8, 4, 8, 1, 6, 2, 7, 6, 2, 5, 9, 8, 7, 10, 1, 4, 9, 7, 8, 4, 8, 8, 4, 10, 6, 4, 2, 7, 6, 4, 10, 5, 5, 4, 1, 7, 9, 3, 9, 2, 1, 9, 1, 4, 4, 6, 4, 7, 8, 9, 4, 6, 8, 10, 1, 7, 2, 3, 4, 4, 2, 3, 1, 10, 6, 8, 3, 6, 2, 7, 6, 10, 9, 10, 9, 6, 8, 4, 8, 8, 1, 6, 10, 9, 7, 10, 2, 5, 9, 4, 5, 10, 4, 5, 7, 5, 3, 4, 5, 3, 10, 4, 4, 5, 2, 8, 10, 7, 4, 3, 9, 6, 3, 4, 5, 9, 2, 4, 9, 10, 9, 6, 5, 2, 4, 3, 7, 6, 3, 5, 4, 7, 8, 4, 8, 4, 8, 1, 9, 6, 5, 10, 5, 7, 5, 4, 4, 6, 7, 1, 7, 6, 5, 3, 2, 6, 8, 3, 1, 4, 5, 10, 8, 1, 8], \"Freq\": [0.8590686917304993, 0.8335110545158386, 0.5908583402633667, 0.3909437656402588, 0.3909437656402588, 0.8230222463607788, 0.8230521082878113, 0.565449595451355, 0.851641058921814, 0.20459997653961182, 0.20459997653961182, 0.20459997653961182, 0.20459997653961182, 0.40919995307922363, 0.8741227984428406, 0.8798030614852905, 0.8091414570808411, 0.7828322649002075, 0.8359463810920715, 0.8460032939910889, 0.8091414570808411, 0.8741235733032227, 0.84600430727005, 0.5487443208694458, 0.5487443208694458, 0.8590696454048157, 0.833510160446167, 0.8460028171539307, 0.5550925731658936, 0.5550925731658936, 0.8150041699409485, 0.7828339338302612, 0.8091414570808411, 0.8335106372833252, 0.8590696454048157, 0.8335106372833252, 0.8359476327896118, 0.8590685725212097, 0.8590696454048157, 0.8619497418403625, 0.8230204582214355, 0.8590696454048157, 0.8798037767410278, 0.8230199813842773, 0.782841145992279, 0.7828328013420105, 0.7828322649002075, 0.8335106372833252, 0.8335110545158386, 0.8798027038574219, 0.5434609055519104, 0.5434609055519104, 0.8590696454048157, 0.8091409206390381, 0.8359463810920715, 0.8091471195220947, 0.5720227360725403, 0.5720227360725403, 0.10348257422447205, 0.6208954453468323, 0.10348257422447205, 0.10348257422447205, 0.8157504796981812, 0.09063894301652908, 0.09063894301652908, 0.8359465003013611, 0.8335122466087341, 0.8359465003013611, 0.8230200409889221, 0.7828339338302612, 0.8230205178260803, 0.8741224408149719, 0.8335110545158386, 0.8359470367431641, 0.8091409206390381, 0.7828332185745239, 0.8619497418403625, 0.413837194442749, 0.413837194442749, 0.7828339338302612, 0.8230537176132202, 0.3312987983226776, 0.6625975966453552, 0.20541329681873322, 0.6162398457527161, 0.20541329681873322, 0.8798027634620667, 0.5960620641708374, 0.8798037767410278, 0.8230204582214355, 0.8460032939910889, 0.8230199813842773, 0.5871692895889282, 0.2935846447944641, 0.2935846447944641, 0.8091409206390381, 0.8091413378715515, 0.7828322649002075, 0.8359476327896118, 0.8798037767410278, 0.5712606310844421, 0.5712606310844421, 0.8230268359184265, 0.23021180927753448, 0.23021180927753448, 0.23021180927753448, 0.23021180927753448, 0.23021180927753448, 0.8798030614852905, 0.7828328013420105, 0.8460032939910889, 0.8619482517242432, 0.8798027634620667, 0.7828320860862732, 0.8359485268592834, 0.8798027038574219, 0.8619482517242432, 0.8091432452201843, 0.8590685725212097, 0.8230268359184265, 0.8230268359184265, 0.8091409206390381, 0.3314564824104309, 0.6629129648208618, 0.8590735793113708, 0.8091409206390381, 0.8460083603858948, 0.84600430727005, 0.5725319385528564, 0.5725319385528564, 0.8091409206390381, 0.8230209946632385, 0.8359521627426147, 0.5543433427810669, 0.8741227388381958, 0.7828338742256165, 0.8335106372833252, 0.8359463810920715, 0.8335110545158386, 0.8335161209106445, 0.8091431856155396, 0.8230221271514893, 0.7828332185745239, 0.8230199813842773, 0.8798030614852905, 0.579764723777771, 0.8590686917304993, 0.8335122466087341, 0.8619531989097595, 0.8590686917304993, 0.8091432452201843, 0.8359465003013611, 0.8230551481246948, 0.5543433427810669, 0.846005380153656, 0.8798027634620667, 0.7828328013420105, 0.8359485268592834, 0.833510160446167, 0.823058545589447, 0.3973999619483948, 0.3973999619483948, 0.8230204582214355, 0.5365307331085205, 0.5365307331085205, 0.8619531989097595, 0.7828320860862732, 0.5655372738838196, 0.5655372738838196, 0.8619531989097595, 0.3928127884864807, 0.3928127884864807, 0.8091409206390381, 0.8091417551040649, 0.7828339338302612, 0.8798068165779114, 0.8335122466087341, 0.8359469175338745, 0.8741227984428406, 0.8359485268592834, 0.8590686917304993, 0.8798037767410278, 0.8359463810920715, 0.8798038959503174, 0.7828339338302612, 0.7828353643417358, 0.8619531989097595, 0.32046079635620117, 0.32046079635620117, 0.32046079635620117, 0.8359469175338745, 0.7828338742256165, 0.5619125962257385, 0.5619125962257385, 0.8460028171539307, 0.8798027038574219, 0.5543444156646729, 0.5839454531669617, 0.5839454531669617, 0.7828339338302612, 0.7828544974327087, 0.8590696454048157, 0.8741227984428406, 0.8798027634620667, 0.5655118227005005, 0.8619478940963745, 0.8230372667312622, 0.7127811312675476, 0.3563905656337738, 0.421509712934494, 0.421509712934494, 0.8619481921195984, 0.8460053205490112, 0.8359485268592834, 0.84600430727005, 0.8359470367431641, 0.8619482517242432, 0.823054850101471, 0.5103926658630371, 0.8230211138725281, 0.8230267763137817, 0.8798037767410278, 0.8734974265098572, 0.8460027575492859, 0.8359465003013611, 0.8335106372833252, 0.846005380153656, 0.8590686917304993, 0.8091415166854858, 0.8359521627426147, 0.7828353643417358, 0.8091415166854858, 0.5659184455871582, 0.26807600259780884, 0.26807600259780884, 0.5361520051956177, 0.8091409206390381, 0.547690749168396, 0.547690749168396, 0.8091409206390381, 0.5778796076774597, 0.5778796076774597, 0.7828320860862732, 0.39102017879486084, 0.39102017879486084, 0.4219439923763275, 0.4219439923763275, 0.4219439923763275, 0.8335106372833252, 0.7828322649002075, 0.8741227984428406, 0.8359476327896118, 0.873598575592041, 0.5476918816566467, 0.5476918816566467, 0.8091416954994202, 0.8359465003013611, 0.408739298582077, 0.408739298582077, 0.408739298582077, 0.84600430727005, 0.8359485268592834, 0.8619478940963745, 0.8091471195220947, 0.8590735793113708, 0.7828327417373657, 0.5720227360725403, 0.5720227360725403, 0.8735187649726868, 0.5908488035202026, 0.8091410398483276, 0.2695784866809845, 0.539156973361969, 0.2695784866809845, 0.3877934217453003, 0.3877934217453003, 0.5103938579559326, 0.8230204582214355, 0.5960572361946106, 0.8359465003013611, 0.8619497418403625, 0.8091431856155396, 0.8460032939910889, 0.8091413378715515, 0.8335122466087341, 0.8091431856155396, 0.7828353643417358, 0.7828332185745239, 0.5667838454246521, 0.5667838454246521, 0.8798068165779114, 0.833510160446167, 0.8619517087936401, 0.8091409802436829, 0.8741235733032227, 0.4258795380592346, 0.4258795380592346, 0.4258795380592346, 0.8741227984428406, 0.8798027634620667, 0.7828322649002075, 0.5329914689064026, 0.8460032939910889, 0.8230267763137817, 0.8798068165779114, 0.8230199813842773], \"Term\": [\"abusive\", \"account\", \"afraid\", \"alone\", \"alone\", \"amaze\", \"annoying\", \"another\", \"anymore\", \"anyone\", \"anyone\", \"anyone\", \"anyone\", \"anyone\", \"anything\", \"apart\", \"apparently\", \"appeal\", \"appraisal\", \"argument\", \"basic\", \"bathroom\", \"belong\", \"better\", \"better\", \"bitch\", \"black\", \"bleak\", \"boyfriend\", \"boyfriend\", \"break\", \"breaking\", \"bring\", \"bunch\", \"campaign\", \"care\", \"celexa\", \"cheat\", \"child\", \"childhood\", \"choice\", \"clinical\", \"college\", \"comment\", \"confession\", \"consider\", \"constantly\", \"contemplate\", \"conversationalist\", \"convince\", \"could\", \"could\", \"counseling\", \"cripple\", \"critical\", \"crushing\", \"death\", \"death\", \"depress\", \"depress\", \"depress\", \"depress\", \"depression\", \"depression\", \"depression\", \"depressive\", \"desire\", \"disorder\", \"documentary\", \"dramatic\", \"dream\", \"dying\", \"early\", \"embarrassment\", \"embracing\", \"emotionless\", \"empty\", \"enough\", \"enough\", \"evening\", \"everyday\", \"everyone\", \"everyone\", \"everything\", \"everything\", \"everything\", \"excite\", \"fail\", \"failing\", \"failure\", \"fallout\", \"father\", \"feeling\", \"feeling\", \"feeling\", \"fighting\", \"figure\", \"financial\", \"finding\", \"follow\", \"found\", \"found\", \"foward\", \"friend\", \"friend\", \"friend\", \"friend\", \"friend\", \"friendship\", \"frustrate\", \"fuck\", \"fucking\", \"fully\", \"future\", \"generic\", \"getting\", \"give\", \"going\", \"goodbye\", \"great\", \"happen\", \"happily\", \"happy\", \"happy\", \"hard\", \"hardly\", \"harsh\", \"heart\", \"help\", \"help\", \"honest\", \"hopelessly\", \"human\", \"important\", \"impossible\", \"inadequacy\", \"inner\", \"interest\", \"internship\", \"intro\", \"keep\", \"leaf\", \"leave\", \"letter\", \"little\", \"lonely\", \"looking\", \"lose\", \"loser\", \"love\", \"lower\", \"major\", \"make\", \"making\", \"maoi\", \"married\", \"mean\", \"memory\", \"miss\", \"mistake\", \"month\", \"month\", \"musing\", \"need\", \"need\", \"nervous\", \"never\", \"night\", \"night\", \"nobody\", \"nothing\", \"nothing\", \"openly\", \"others\", \"overly\", \"oxymoron\", \"painful\", \"parent\", \"passion\", \"paxil\", \"people\", \"perfect\", \"perhaps\", \"person\", \"personal\", \"piece\", \"pill\", \"please\", \"please\", \"please\", \"point\", \"positive\", \"post\", \"post\", \"postgrad\", \"pretending\", \"pretty\", \"problem\", \"problem\", \"professional\", \"progression\", \"psychotherapy\", \"purpose\", \"purposeless\", \"quite\", \"reading\", \"realize\", \"really\", \"really\", \"reddit\", \"reddit\", \"redis\", \"refractory\", \"regret\", \"regrets\", \"relationship\", \"remember\", \"remind\", \"right\", \"romantic\", \"running\", \"scare\", \"school\", \"seem\", \"selegiline\", \"self\", \"severe\", \"severely\", \"skill\", \"slide\", \"slump\", \"social\", \"somebody\", \"someone\", \"someone\", \"someone\", \"something\", \"sorry\", \"sorry\", \"start\", \"starting\", \"starting\", \"status\", \"stick\", \"stick\", \"story\", \"story\", \"story\", \"stranger\", \"stress\", \"subconsciously\", \"subreddits\", \"suck\", \"suicide\", \"suicide\", \"sympathetic\", \"system\", \"taking\", \"taking\", \"taking\", \"tears\", \"terrible\", \"thank\", \"theory\", \"therapist\", \"thing\", \"things\", \"things\", \"think\", \"thinking\", \"though\", \"thought\", \"thought\", \"thought\", \"tire\", \"tire\", \"today\", \"today;i\", \"tomorrow\", \"transdermal\", \"trauma\", \"truly\", \"try\", \"unedited\", \"update\", \"upset\", \"verge\", \"wanna\", \"want\", \"want\", \"waste\", \"white\", \"withstand\", \"works\", \"world\", \"worse\", \"worse\", \"worse\", \"worth\", \"worthless\", \"would\", \"write\", \"writing\", \"wrong\", \"years\", \"zachary\"]}, \"R\": 30, \"lambda.step\": 0.01, \"plot.opts\": {\"xlab\": \"PC1\", \"ylab\": \"PC2\"}, \"topic.order\": [1, 2, 3, 4, 5, 6, 7, 8, 9, 10]};\n",
       "\n",
       "function LDAvis_load_lib(url, callback){\n",
       "  var s = document.createElement('script');\n",
       "  s.src = url;\n",
       "  s.async = true;\n",
       "  s.onreadystatechange = s.onload = callback;\n",
       "  s.onerror = function(){console.warn(\"failed to load library \" + url);};\n",
       "  document.getElementsByTagName(\"head\")[0].appendChild(s);\n",
       "}\n",
       "\n",
       "if(typeof(LDAvis) !== \"undefined\"){\n",
       "   // already loaded: just create the visualization\n",
       "   !function(LDAvis){\n",
       "       new LDAvis(\"#\" + \"ldavis_el37901122721795122719194260\", ldavis_el37901122721795122719194260_data);\n",
       "   }(LDAvis);\n",
       "}else if(typeof define === \"function\" && define.amd){\n",
       "   // require.js is available: use it to load d3/LDAvis\n",
       "   require.config({paths: {d3: \"https://cdnjs.cloudflare.com/ajax/libs/d3/3.5.5/d3.min\"}});\n",
       "   require([\"d3\"], function(d3){\n",
       "      window.d3 = d3;\n",
       "      LDAvis_load_lib(\"https://cdn.rawgit.com/bmabey/pyLDAvis/files/ldavis.v1.0.0.js\", function(){\n",
       "        new LDAvis(\"#\" + \"ldavis_el37901122721795122719194260\", ldavis_el37901122721795122719194260_data);\n",
       "      });\n",
       "    });\n",
       "}else{\n",
       "    // require.js not available: dynamically load d3 & LDAvis\n",
       "    LDAvis_load_lib(\"https://cdnjs.cloudflare.com/ajax/libs/d3/3.5.5/d3.min.js\", function(){\n",
       "         LDAvis_load_lib(\"https://cdn.rawgit.com/bmabey/pyLDAvis/files/ldavis.v1.0.0.js\", function(){\n",
       "                 new LDAvis(\"#\" + \"ldavis_el37901122721795122719194260\", ldavis_el37901122721795122719194260_data);\n",
       "            })\n",
       "         });\n",
       "}\n",
       "</script>"
      ],
      "text/plain": [
       "<IPython.core.display.HTML object>"
      ]
     },
     "execution_count": 22,
     "metadata": {},
     "output_type": "execute_result"
    }
   ],
   "source": [
    "lda10 = gensim.models.ldamodel.LdaModel.load('model10.gensim')\n",
    "lda_display10 = pyLDAvis.gensim.prepare(lda10, corpus, dictionary, sort_topics=False)\n",
    "pyLDAvis.display(lda_display10)"
   ]
  },
  {
   "cell_type": "code",
   "execution_count": null,
   "metadata": {},
   "outputs": [],
   "source": []
  }
 ],
 "metadata": {
  "kernelspec": {
   "display_name": "Python 3",
   "language": "python",
   "name": "python3"
  },
  "language_info": {
   "codemirror_mode": {
    "name": "ipython",
    "version": 3
   },
   "file_extension": ".py",
   "mimetype": "text/x-python",
   "name": "python",
   "nbconvert_exporter": "python",
   "pygments_lexer": "ipython3",
   "version": "3.7.3"
  }
 },
 "nbformat": 4,
 "nbformat_minor": 2
}
