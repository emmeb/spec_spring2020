{
 "cells": [
  {
   "cell_type": "code",
   "execution_count": 1,
   "metadata": {},
   "outputs": [],
   "source": [
    "#https://github.com/CornellNLP/Cornell-Conversational-Analysis-Toolkit/blob/master/examples/text-processing/text_preprocessing_demo.ipynb \n",
    "\n",
    "import convokit\n",
    "from convokit import Corpus, download\n",
    "import os\n",
    "from convokit.text_processing import TextParser"
   ]
  },
  {
   "cell_type": "code",
   "execution_count": 2,
   "metadata": {},
   "outputs": [],
   "source": [
    "OUT_DIR = '/Users/Emilie/.convokit/downloads/subreddit-depressed'"
   ]
  },
  {
   "cell_type": "code",
   "execution_count": 3,
   "metadata": {},
   "outputs": [
    {
     "name": "stdout",
     "output_type": "stream",
     "text": [
      "Dataset already exists at /Users/Emilie/.convokit/downloads/subreddit-depressed\n"
     ]
    }
   ],
   "source": [
    "# c = Corpus(filename=download(\"subreddit-mentalhealth\"))\n",
    "ROOT_DIR = download('subreddit-depressed')\n",
    "corpus = convokit.Corpus(ROOT_DIR, utterance_end_index=199)"
   ]
  },
  {
   "cell_type": "code",
   "execution_count": 4,
   "metadata": {},
   "outputs": [
    {
     "name": "stdout",
     "output_type": "stream",
     "text": [
      "Number of Users: 120\n",
      "Number of Utterances: 200\n",
      "Number of Conversations: 200\n"
     ]
    }
   ],
   "source": [
    "corpus.print_summary_stats()"
   ]
  },
  {
   "cell_type": "code",
   "execution_count": 5,
   "metadata": {},
   "outputs": [
    {
     "data": {
      "text/plain": [
       "{'score': 1,\n",
       " 'top_level_comment': None,\n",
       " 'retrieved_on': 1412686878,\n",
       " 'gilded': 0,\n",
       " 'gildings': None,\n",
       " 'subreddit': 'depressed',\n",
       " 'stickied': False,\n",
       " 'permalink': '/r/depressed/comments/1dgsab/i_have_6_months_to_live/',\n",
       " 'author_flair_text': ''}"
      ]
     },
     "execution_count": 5,
     "metadata": {},
     "output_type": "execute_result"
    }
   ],
   "source": [
    "test_utt_id = corpus.get_utterance_ids()[3]\n",
    "utt = corpus.get_utterance(test_utt_id)\n",
    "utt.meta"
   ]
  },
  {
   "cell_type": "code",
   "execution_count": 6,
   "metadata": {},
   "outputs": [],
   "source": [
    "from convokit.text_processing import TextProcessor"
   ]
  },
  {
   "cell_type": "code",
   "execution_count": 7,
   "metadata": {},
   "outputs": [],
   "source": [
    "def preprocess_text(text):\n",
    "    text = text.replace(' -- ', ' ')\n",
    "    return text"
   ]
  },
  {
   "cell_type": "code",
   "execution_count": 8,
   "metadata": {},
   "outputs": [],
   "source": [
    "prep = TextProcessor(proc_fn=preprocess_text, output_field='clean_text')\n",
    "corpus = prep.transform(corpus)"
   ]
  },
  {
   "cell_type": "code",
   "execution_count": 9,
   "metadata": {},
   "outputs": [
    {
     "data": {
      "text/plain": [
       "\"I've been given 6 months to live by my doctor?\\nI've struggled with testicular cancer for about 2 years now, and I was told by my doctor I only have about 6 months to live. I'm a 17 year old high school junior that doesn't know what to do now, I've struggled with the thought but I have since, learned to accept it. Any advice on what to do?\""
      ]
     },
     "execution_count": 9,
     "metadata": {},
     "output_type": "execute_result"
    }
   ],
   "source": [
    "utt.get_info('clean_text')"
   ]
  },
  {
   "cell_type": "code",
   "execution_count": 10,
   "metadata": {},
   "outputs": [],
   "source": [
    "parser = TextParser(input_field='clean_text', verbosity=50)"
   ]
  },
  {
   "cell_type": "code",
   "execution_count": 11,
   "metadata": {},
   "outputs": [
    {
     "name": "stdout",
     "output_type": "stream",
     "text": [
      "050/200 utterances processed\n",
      "100/200 utterances processed\n",
      "150/200 utterances processed\n",
      "200/200 utterances processed\n"
     ]
    }
   ],
   "source": [
    "corpus = parser.transform(corpus)\n"
   ]
  },
  {
   "cell_type": "code",
   "execution_count": 12,
   "metadata": {},
   "outputs": [],
   "source": [
    "test_parse = utt.get_info('parsed')"
   ]
  },
  {
   "cell_type": "code",
   "execution_count": 13,
   "metadata": {},
   "outputs": [
    {
     "data": {
      "text/plain": [
       "{'rt': 3,\n",
       " 'toks': [{'tok': 'I', 'tag': 'PRP', 'dep': 'nsubjpass', 'up': 3, 'dn': []},\n",
       "  {'tok': \"'ve\", 'tag': 'VB', 'dep': 'aux', 'up': 3, 'dn': []},\n",
       "  {'tok': 'been', 'tag': 'VBN', 'dep': 'auxpass', 'up': 3, 'dn': []},\n",
       "  {'tok': 'given', 'tag': 'VBN', 'dep': 'ROOT', 'dn': [0, 1, 2, 5, 7, 11]},\n",
       "  {'tok': '6', 'tag': 'CD', 'dep': 'nummod', 'up': 5, 'dn': []},\n",
       "  {'tok': 'months', 'tag': 'NNS', 'dep': 'dobj', 'up': 3, 'dn': [4]},\n",
       "  {'tok': 'to', 'tag': 'TO', 'dep': 'aux', 'up': 7, 'dn': []},\n",
       "  {'tok': 'live', 'tag': 'VB', 'dep': 'xcomp', 'up': 3, 'dn': [6, 8]},\n",
       "  {'tok': 'by', 'tag': 'IN', 'dep': 'prep', 'up': 7, 'dn': [10]},\n",
       "  {'tok': 'my', 'tag': 'PRP$', 'dep': 'poss', 'up': 10, 'dn': []},\n",
       "  {'tok': 'doctor', 'tag': 'NN', 'dep': 'pobj', 'up': 8, 'dn': [9]},\n",
       "  {'tok': '?', 'tag': '.', 'dep': 'punct', 'up': 3, 'dn': [12]},\n",
       "  {'tok': '\\n', 'tag': '_SP', 'dep': '', 'up': 11, 'dn': []}]}"
      ]
     },
     "execution_count": 13,
     "metadata": {},
     "output_type": "execute_result"
    }
   ],
   "source": [
    "test_parse[0]"
   ]
  },
  {
   "cell_type": "code",
   "execution_count": 14,
   "metadata": {},
   "outputs": [
    {
     "data": {
      "text/plain": [
       "{'toks': [{'tok': 'I', 'tag': 'PRP'},\n",
       "  {'tok': \"'ve\", 'tag': 'VB'},\n",
       "  {'tok': 'been', 'tag': 'VBN'},\n",
       "  {'tok': 'given', 'tag': 'VBN'},\n",
       "  {'tok': '6', 'tag': 'CD'},\n",
       "  {'tok': 'months', 'tag': 'NNS'},\n",
       "  {'tok': 'to', 'tag': 'TO'},\n",
       "  {'tok': 'live', 'tag': 'VB'},\n",
       "  {'tok': 'by', 'tag': 'IN'},\n",
       "  {'tok': 'my', 'tag': 'PRP$'},\n",
       "  {'tok': 'doctor', 'tag': 'NN'},\n",
       "  {'tok': '?', 'tag': '.'}]}"
      ]
     },
     "execution_count": 14,
     "metadata": {},
     "output_type": "execute_result"
    }
   ],
   "source": [
    "texttagger = TextParser(output_field='tagged', input_field='clean_text', mode='tag')\n",
    "corpus = texttagger.transform(corpus)\n",
    "utt.get_info('tagged')[0]"
   ]
  },
  {
   "cell_type": "code",
   "execution_count": 15,
   "metadata": {},
   "outputs": [
    {
     "data": {
      "text/plain": [
       "['score',\n",
       " 'top_level_comment',\n",
       " 'retrieved_on',\n",
       " 'gilded',\n",
       " 'gildings',\n",
       " 'subreddit',\n",
       " 'stickied',\n",
       " 'permalink',\n",
       " 'author_flair_text',\n",
       " 'clean_text',\n",
       " 'parsed',\n",
       " 'tagged']"
      ]
     },
     "execution_count": 15,
     "metadata": {},
     "output_type": "execute_result"
    }
   ],
   "source": [
    "list(utt.meta.keys())"
   ]
  },
  {
   "cell_type": "code",
   "execution_count": 16,
   "metadata": {},
   "outputs": [],
   "source": [
    "corpus.dump(os.path.basename(OUT_DIR), base_path=os.path.dirname(OUT_DIR), \n",
    "            fields_to_skip={'utterance': ['parsed','tagged','clean_text']})"
   ]
  },
  {
   "cell_type": "code",
   "execution_count": 17,
   "metadata": {},
   "outputs": [],
   "source": [
    "corpus.dump_info('utterance',['parsed','tagged'], dir_name = OUT_DIR)"
   ]
  },
  {
   "cell_type": "code",
   "execution_count": 18,
   "metadata": {},
   "outputs": [],
   "source": [
    "new_corpus = convokit.Corpus(OUT_DIR)"
   ]
  },
  {
   "cell_type": "code",
   "execution_count": 19,
   "metadata": {},
   "outputs": [],
   "source": [
    "new_utt = new_corpus.get_utterance(test_utt_id)"
   ]
  },
  {
   "cell_type": "code",
   "execution_count": 20,
   "metadata": {},
   "outputs": [
    {
     "data": {
      "text/plain": [
       "KeysView({'score': 1, 'top_level_comment': None, 'retrieved_on': 1412686878, 'gilded': 0, 'gildings': None, 'subreddit': 'depressed', 'stickied': False, 'permalink': '/r/depressed/comments/1dgsab/i_have_6_months_to_live/', 'author_flair_text': ''})"
      ]
     },
     "execution_count": 20,
     "metadata": {},
     "output_type": "execute_result"
    }
   ],
   "source": [
    "new_utt.meta.keys()"
   ]
  },
  {
   "cell_type": "code",
   "execution_count": 21,
   "metadata": {},
   "outputs": [],
   "source": [
    "new_corpus.load_info('utterance',['parsed'])"
   ]
  }
 ],
 "metadata": {
  "kernelspec": {
   "display_name": "Python 3",
   "language": "python",
   "name": "python3"
  },
  "language_info": {
   "codemirror_mode": {
    "name": "ipython",
    "version": 3
   },
   "file_extension": ".py",
   "mimetype": "text/x-python",
   "name": "python",
   "nbconvert_exporter": "python",
   "pygments_lexer": "ipython3",
   "version": "3.7.3"
  }
 },
 "nbformat": 4,
 "nbformat_minor": 2
}
