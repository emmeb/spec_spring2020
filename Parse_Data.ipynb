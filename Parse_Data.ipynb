{
 "cells": [
  {
   "cell_type": "code",
   "execution_count": 58,
   "metadata": {},
   "outputs": [],
   "source": [
    "#https://github.com/CornellNLP/Cornell-Conversational-Analysis-Toolkit/blob/master/examples/text-processing/text_preprocessing_demo.ipynb \n",
    "\n",
    "import convokit\n",
    "from convokit import Corpus, download\n",
    "import os"
   ]
  },
  {
   "cell_type": "code",
   "execution_count": 60,
   "metadata": {},
   "outputs": [],
   "source": [
    "OUT_DIR = '/Users/Emilie/.convokit/downloads/subreddit-mentalhealth'"
   ]
  },
  {
   "cell_type": "code",
   "execution_count": 27,
   "metadata": {},
   "outputs": [
    {
     "name": "stdout",
     "output_type": "stream",
     "text": [
      "Dataset already exists at /Users/Emilie/.convokit/downloads/subreddit-mentalhealth\n"
     ]
    }
   ],
   "source": [
    "# c = Corpus(filename=download(\"subreddit-mentalhealth\"))\n",
    "ROOT_DIR = download('subreddit-mentalhealth')\n",
    "corpus = convokit.Corpus(ROOT_DIR, utterance_end_index=199)"
   ]
  },
  {
   "cell_type": "code",
   "execution_count": 28,
   "metadata": {},
   "outputs": [
    {
     "name": "stdout",
     "output_type": "stream",
     "text": [
      "Number of Users: 120\n",
      "Number of Utterances: 200\n",
      "Number of Conversations: 200\n"
     ]
    }
   ],
   "source": [
    "corpus.print_summary_stats()"
   ]
  },
  {
   "cell_type": "code",
   "execution_count": 45,
   "metadata": {},
   "outputs": [
    {
     "data": {
      "text/plain": [
       "{'score': 1,\n",
       " 'top_level_comment': None,\n",
       " 'retrieved_on': -1,\n",
       " 'gilded': -1,\n",
       " 'gildings': None,\n",
       " 'subreddit': 'mentalhealth',\n",
       " 'stickied': False,\n",
       " 'permalink': '/r/mentalhealth/comments/o30h3/anyone_else_ever_experience_limerence/',\n",
       " 'author_flair_text': ''}"
      ]
     },
     "execution_count": 45,
     "metadata": {},
     "output_type": "execute_result"
    }
   ],
   "source": [
    "test_utt_id = corpus.get_utterance_ids()[3]\n",
    "utt = corpus.get_utterance(test_utt_id)\n",
    "utt.meta"
   ]
  },
  {
   "cell_type": "code",
   "execution_count": 46,
   "metadata": {},
   "outputs": [],
   "source": [
    "from convokit.text_processing import TextProcessor"
   ]
  },
  {
   "cell_type": "code",
   "execution_count": 47,
   "metadata": {},
   "outputs": [],
   "source": [
    "def preprocess_text(text):\n",
    "    text = text.replace(' -- ', ' ')\n",
    "    return text"
   ]
  },
  {
   "cell_type": "code",
   "execution_count": 48,
   "metadata": {},
   "outputs": [],
   "source": [
    "prep = TextProcessor(proc_fn=preprocess_text, output_field='clean_text')\n",
    "corpus = prep.transform(corpus)"
   ]
  },
  {
   "cell_type": "code",
   "execution_count": 49,
   "metadata": {},
   "outputs": [
    {
     "data": {
      "text/plain": [
       "\"I have been diagnosed with depression for the last 4 years of my life, recently also been diagnosed with an adjustment disorder. I have been searching and searching for answers and an explanation of what I am going through. \\nMy days are filled with obsessive thoughts of my last boyfriend of 2 years. It has been over a year since our breakup and my dreams are nightmares of him and his new girlfriend EVERY NIGHT.\\nIt is if I am living in a prison in my own body as the obsessive thoughts about him, what went wrong and things I could of said, are neverending and I would probably say I spend about 80% of my day thinking of him. \\n\\nI need help and a cure, no doctors have even heard of limerence where I am from. \\nI am afraid without help I won't be able to take it any longer. \""
      ]
     },
     "execution_count": 49,
     "metadata": {},
     "output_type": "execute_result"
    }
   ],
   "source": [
    "utt.get_info('clean_text')"
   ]
  },
  {
   "cell_type": "code",
   "execution_count": 50,
   "metadata": {},
   "outputs": [],
   "source": [
    "parser = TextParser(input_field='clean_text', verbosity=50)"
   ]
  },
  {
   "cell_type": "code",
   "execution_count": 51,
   "metadata": {},
   "outputs": [
    {
     "name": "stdout",
     "output_type": "stream",
     "text": [
      "050/200 utterances processed\n",
      "100/200 utterances processed\n",
      "150/200 utterances processed\n",
      "200/200 utterances processed\n"
     ]
    }
   ],
   "source": [
    "corpus = parser.transform(corpus)\n"
   ]
  },
  {
   "cell_type": "code",
   "execution_count": 52,
   "metadata": {},
   "outputs": [],
   "source": [
    "test_parse = utt.get_info('parsed')"
   ]
  },
  {
   "cell_type": "code",
   "execution_count": 53,
   "metadata": {},
   "outputs": [
    {
     "data": {
      "text/plain": [
       "{'rt': 3,\n",
       " 'toks': [{'tok': 'I', 'tag': 'PRP', 'dep': 'nsubjpass', 'up': 3, 'dn': []},\n",
       "  {'tok': 'have', 'tag': 'VBP', 'dep': 'aux', 'up': 3, 'dn': []},\n",
       "  {'tok': 'been', 'tag': 'VBN', 'dep': 'auxpass', 'up': 3, 'dn': []},\n",
       "  {'tok': 'diagnosed',\n",
       "   'tag': 'VBN',\n",
       "   'dep': 'ROOT',\n",
       "   'dn': [0, 1, 2, 4, 14, 18, 23]},\n",
       "  {'tok': 'with', 'tag': 'IN', 'dep': 'prep', 'up': 3, 'dn': [5]},\n",
       "  {'tok': 'depression', 'tag': 'NN', 'dep': 'pobj', 'up': 4, 'dn': [6]},\n",
       "  {'tok': 'for', 'tag': 'IN', 'dep': 'prep', 'up': 5, 'dn': [10]},\n",
       "  {'tok': 'the', 'tag': 'DT', 'dep': 'det', 'up': 10, 'dn': []},\n",
       "  {'tok': 'last', 'tag': 'JJ', 'dep': 'amod', 'up': 10, 'dn': []},\n",
       "  {'tok': '4', 'tag': 'CD', 'dep': 'nummod', 'up': 10, 'dn': []},\n",
       "  {'tok': 'years', 'tag': 'NNS', 'dep': 'pobj', 'up': 6, 'dn': [7, 8, 9, 11]},\n",
       "  {'tok': 'of', 'tag': 'IN', 'dep': 'prep', 'up': 10, 'dn': [13]},\n",
       "  {'tok': 'my', 'tag': 'PRP$', 'dep': 'poss', 'up': 13, 'dn': []},\n",
       "  {'tok': 'life', 'tag': 'NN', 'dep': 'pobj', 'up': 11, 'dn': [12]},\n",
       "  {'tok': ',', 'tag': ',', 'dep': 'punct', 'up': 3, 'dn': []},\n",
       "  {'tok': 'recently', 'tag': 'RB', 'dep': 'advmod', 'up': 18, 'dn': []},\n",
       "  {'tok': 'also', 'tag': 'RB', 'dep': 'advmod', 'up': 18, 'dn': []},\n",
       "  {'tok': 'been', 'tag': 'VBN', 'dep': 'auxpass', 'up': 18, 'dn': []},\n",
       "  {'tok': 'diagnosed',\n",
       "   'tag': 'VBN',\n",
       "   'dep': 'conj',\n",
       "   'up': 3,\n",
       "   'dn': [15, 16, 17, 19]},\n",
       "  {'tok': 'with', 'tag': 'IN', 'dep': 'prep', 'up': 18, 'dn': [22]},\n",
       "  {'tok': 'an', 'tag': 'DT', 'dep': 'det', 'up': 22, 'dn': []},\n",
       "  {'tok': 'adjustment', 'tag': 'NN', 'dep': 'compound', 'up': 22, 'dn': []},\n",
       "  {'tok': 'disorder', 'tag': 'NN', 'dep': 'pobj', 'up': 19, 'dn': [20, 21]},\n",
       "  {'tok': '.', 'tag': '.', 'dep': 'punct', 'up': 3, 'dn': []}]}"
      ]
     },
     "execution_count": 53,
     "metadata": {},
     "output_type": "execute_result"
    }
   ],
   "source": [
    "test_parse[0]"
   ]
  },
  {
   "cell_type": "code",
   "execution_count": 54,
   "metadata": {},
   "outputs": [
    {
     "data": {
      "text/plain": [
       "{'toks': [{'tok': 'I', 'tag': 'PRP'},\n",
       "  {'tok': 'have', 'tag': 'VBP'},\n",
       "  {'tok': 'been', 'tag': 'VBN'},\n",
       "  {'tok': 'diagnosed', 'tag': 'VBN'},\n",
       "  {'tok': 'with', 'tag': 'IN'},\n",
       "  {'tok': 'depression', 'tag': 'NN'},\n",
       "  {'tok': 'for', 'tag': 'IN'},\n",
       "  {'tok': 'the', 'tag': 'DT'},\n",
       "  {'tok': 'last', 'tag': 'JJ'},\n",
       "  {'tok': '4', 'tag': 'CD'},\n",
       "  {'tok': 'years', 'tag': 'NNS'},\n",
       "  {'tok': 'of', 'tag': 'IN'},\n",
       "  {'tok': 'my', 'tag': 'PRP$'},\n",
       "  {'tok': 'life', 'tag': 'NN'},\n",
       "  {'tok': ',', 'tag': ','},\n",
       "  {'tok': 'recently', 'tag': 'RB'},\n",
       "  {'tok': 'also', 'tag': 'RB'},\n",
       "  {'tok': 'been', 'tag': 'VBN'},\n",
       "  {'tok': 'diagnosed', 'tag': 'VBN'},\n",
       "  {'tok': 'with', 'tag': 'IN'},\n",
       "  {'tok': 'an', 'tag': 'DT'},\n",
       "  {'tok': 'adjustment', 'tag': 'NN'},\n",
       "  {'tok': 'disorder', 'tag': 'NN'},\n",
       "  {'tok': '.', 'tag': '.'}]}"
      ]
     },
     "execution_count": 54,
     "metadata": {},
     "output_type": "execute_result"
    }
   ],
   "source": [
    "texttagger = TextParser(output_field='tagged', input_field='clean_text', mode='tag')\n",
    "corpus = texttagger.transform(corpus)\n",
    "utt.get_info('tagged')[0]"
   ]
  },
  {
   "cell_type": "code",
   "execution_count": 55,
   "metadata": {},
   "outputs": [
    {
     "data": {
      "text/plain": [
       "['score',\n",
       " 'top_level_comment',\n",
       " 'retrieved_on',\n",
       " 'gilded',\n",
       " 'gildings',\n",
       " 'subreddit',\n",
       " 'stickied',\n",
       " 'permalink',\n",
       " 'author_flair_text',\n",
       " 'clean_text',\n",
       " 'parsed',\n",
       " 'tagged']"
      ]
     },
     "execution_count": 55,
     "metadata": {},
     "output_type": "execute_result"
    }
   ],
   "source": [
    "list(utt.meta.keys())"
   ]
  },
  {
   "cell_type": "code",
   "execution_count": 61,
   "metadata": {},
   "outputs": [],
   "source": [
    "corpus.dump(os.path.basename(OUT_DIR), base_path=os.path.dirname(OUT_DIR), \n",
    "            fields_to_skip={'utterance': ['parsed','tagged','clean_text']})"
   ]
  },
  {
   "cell_type": "code",
   "execution_count": 62,
   "metadata": {},
   "outputs": [],
   "source": [
    "corpus.dump_info('utterance',['parsed','tagged'], dir_name = OUT_DIR)"
   ]
  },
  {
   "cell_type": "code",
   "execution_count": 63,
   "metadata": {},
   "outputs": [],
   "source": [
    "new_corpus = convokit.Corpus(OUT_DIR)"
   ]
  },
  {
   "cell_type": "code",
   "execution_count": 64,
   "metadata": {},
   "outputs": [],
   "source": [
    "new_utt = new_corpus.get_utterance(test_utt_id)"
   ]
  },
  {
   "cell_type": "code",
   "execution_count": 65,
   "metadata": {},
   "outputs": [
    {
     "data": {
      "text/plain": [
       "KeysView({'score': 1, 'top_level_comment': None, 'retrieved_on': -1, 'gilded': -1, 'gildings': None, 'subreddit': 'mentalhealth', 'stickied': False, 'permalink': '/r/mentalhealth/comments/o30h3/anyone_else_ever_experience_limerence/', 'author_flair_text': ''})"
      ]
     },
     "execution_count": 65,
     "metadata": {},
     "output_type": "execute_result"
    }
   ],
   "source": [
    "new_utt.meta.keys()"
   ]
  },
  {
   "cell_type": "code",
   "execution_count": 66,
   "metadata": {},
   "outputs": [],
   "source": [
    "new_corpus.load_info('utterance',['parsed'])"
   ]
  }
 ],
 "metadata": {
  "kernelspec": {
   "display_name": "Python 3",
   "language": "python",
   "name": "python3"
  },
  "language_info": {
   "codemirror_mode": {
    "name": "ipython",
    "version": 3
   },
   "file_extension": ".py",
   "mimetype": "text/x-python",
   "name": "python",
   "nbconvert_exporter": "python",
   "pygments_lexer": "ipython3",
   "version": "3.7.3"
  }
 },
 "nbformat": 4,
 "nbformat_minor": 2
}
